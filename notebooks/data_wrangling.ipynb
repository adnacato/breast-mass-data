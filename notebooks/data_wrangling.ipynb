{
 "cells": [
  {
   "cell_type": "markdown",
   "metadata": {},
   "source": [
    "Propósito: Este notebook es para ejecutar los pasos de limpieza y \n",
    "transformación basados en el notebook de EDA"
   ]
  },
  {
   "cell_type": "code",
   "execution_count": 137,
   "metadata": {},
   "outputs": [],
   "source": [
    "# Librerias \n",
    "import pandas as pd"
   ]
  },
  {
   "cell_type": "markdown",
   "metadata": {},
   "source": [
    "# Cargar el dataset raw "
   ]
  },
  {
   "cell_type": "code",
   "execution_count": 138,
   "metadata": {},
   "outputs": [],
   "source": [
    "# Leer los datos que escriben las características de los núcleos celulares presentes \n",
    "# en la imagen digitalizada de una aspiración con aguja fina (PAAF) de una masa mamaria.\n",
    "crudo_data = pd.read_csv('../datasets/raw/data.csv', sep=',')"
   ]
  },
  {
   "cell_type": "markdown",
   "metadata": {},
   "source": [
    "## Eliminar duplicados"
   ]
  },
  {
   "cell_type": "markdown",
   "metadata": {},
   "source": [
    "la base No contiene duplicados, sin embargo si presentaba una columna que no representaba ningun valor, era nula y sin nombre, posiblemente un error en la lectura del csv"
   ]
  },
  {
   "cell_type": "code",
   "execution_count": 139,
   "metadata": {},
   "outputs": [
    {
     "data": {
      "text/plain": [
       "Index(['id', 'diagnosis', 'radius_mean', 'texture_mean', 'perimeter_mean',\n",
       "       'area_mean', 'smoothness_mean', 'compactness_mean', 'concavity_mean',\n",
       "       'concave points_mean', 'symmetry_mean', 'fractal_dimension_mean',\n",
       "       'radius_se', 'texture_se', 'perimeter_se', 'area_se', 'smoothness_se',\n",
       "       'compactness_se', 'concavity_se', 'concave points_se', 'symmetry_se',\n",
       "       'fractal_dimension_se', 'radius_worst', 'texture_worst',\n",
       "       'perimeter_worst', 'area_worst', 'smoothness_worst',\n",
       "       'compactness_worst', 'concavity_worst', 'concave points_worst',\n",
       "       'symmetry_worst', 'fractal_dimension_worst', 'Unnamed: 32'],\n",
       "      dtype='object')"
      ]
     },
     "execution_count": 139,
     "metadata": {},
     "output_type": "execute_result"
    }
   ],
   "source": [
    "crudo_data.columns"
   ]
  },
  {
   "cell_type": "code",
   "execution_count": 140,
   "metadata": {},
   "outputs": [],
   "source": [
    "crudo_data.drop('Unnamed: 32', axis=1,inplace=True)"
   ]
  },
  {
   "cell_type": "code",
   "execution_count": 141,
   "metadata": {},
   "outputs": [
    {
     "data": {
      "text/plain": [
       "(569, 32)"
      ]
     },
     "execution_count": 141,
     "metadata": {},
     "output_type": "execute_result"
    }
   ],
   "source": [
    "crudo_data.shape"
   ]
  },
  {
   "cell_type": "markdown",
   "metadata": {},
   "source": [
    "## Manejar valores nulos (rellenar, eliminar o imputar)."
   ]
  },
  {
   "cell_type": "markdown",
   "metadata": {},
   "source": [
    "La base no tiene valores nulos que imputar"
   ]
  },
  {
   "cell_type": "code",
   "execution_count": 142,
   "metadata": {},
   "outputs": [
    {
     "data": {
      "text/plain": [
       "id                         0\n",
       "diagnosis                  0\n",
       "radius_mean                0\n",
       "texture_mean               0\n",
       "perimeter_mean             0\n",
       "area_mean                  0\n",
       "smoothness_mean            0\n",
       "compactness_mean           0\n",
       "concavity_mean             0\n",
       "concave points_mean        0\n",
       "symmetry_mean              0\n",
       "fractal_dimension_mean     0\n",
       "radius_se                  0\n",
       "texture_se                 0\n",
       "perimeter_se               0\n",
       "area_se                    0\n",
       "smoothness_se              0\n",
       "compactness_se             0\n",
       "concavity_se               0\n",
       "concave points_se          0\n",
       "symmetry_se                0\n",
       "fractal_dimension_se       0\n",
       "radius_worst               0\n",
       "texture_worst              0\n",
       "perimeter_worst            0\n",
       "area_worst                 0\n",
       "smoothness_worst           0\n",
       "compactness_worst          0\n",
       "concavity_worst            0\n",
       "concave points_worst       0\n",
       "symmetry_worst             0\n",
       "fractal_dimension_worst    0\n",
       "dtype: int64"
      ]
     },
     "execution_count": 142,
     "metadata": {},
     "output_type": "execute_result"
    }
   ],
   "source": [
    "crudo_data.isna().sum() "
   ]
  },
  {
   "cell_type": "markdown",
   "metadata": {},
   "source": [
    "## Estandarizar formatos y nombres de columnas."
   ]
  },
  {
   "cell_type": "code",
   "execution_count": 143,
   "metadata": {},
   "outputs": [
    {
     "data": {
      "text/plain": [
       "diagnosis\n",
       "b    357\n",
       "m    212\n",
       "Name: count, dtype: int64"
      ]
     },
     "execution_count": 143,
     "metadata": {},
     "output_type": "execute_result"
    }
   ],
   "source": [
    "# Estandarizar valores categóricos\n",
    "crudo_data['diagnosis'] = crudo_data['diagnosis'].str.strip().str.lower()\n",
    "crudo_data['diagnosis'].value_counts()"
   ]
  },
  {
   "cell_type": "code",
   "execution_count": 144,
   "metadata": {},
   "outputs": [
    {
     "data": {
      "text/plain": [
       "Index(['id', 'diagnosis', 'radius_mean', 'texture_mean', 'perimeter_mean',\n",
       "       'area_mean', 'smoothness_mean', 'compactness_mean', 'concavity_mean',\n",
       "       'concave points_mean', 'symmetry_mean', 'fractal_dimension_mean',\n",
       "       'radius_se', 'texture_se', 'perimeter_se', 'area_se', 'smoothness_se',\n",
       "       'compactness_se', 'concavity_se', 'concave points_se', 'symmetry_se',\n",
       "       'fractal_dimension_se', 'radius_worst', 'texture_worst',\n",
       "       'perimeter_worst', 'area_worst', 'smoothness_worst',\n",
       "       'compactness_worst', 'concavity_worst', 'concave points_worst',\n",
       "       'symmetry_worst', 'fractal_dimension_worst'],\n",
       "      dtype='object')"
      ]
     },
     "execution_count": 144,
     "metadata": {},
     "output_type": "execute_result"
    }
   ],
   "source": [
    "crudo_data.columns"
   ]
  },
  {
   "cell_type": "code",
   "execution_count": 145,
   "metadata": {},
   "outputs": [],
   "source": [
    "columnas_renombradas = {\n",
    "    'id': 'id',\n",
    "    'diagnosis': 'diagnostico',\n",
    "    'radius_mean': 'radio_promedio',\n",
    "    'texture_mean': 'textura_promedio',\n",
    "    'perimeter_mean': 'perimetro_promedio',\n",
    "    'area_mean': 'area_promedio',\n",
    "    'smoothness_mean': 'suavidad_promedio',\n",
    "    'compactness_mean': 'compacidad_promedio',\n",
    "    'concavity_mean': 'concavidad_promedio',\n",
    "    'concave points_mean': 'puntos_concavos_promedio',\n",
    "    'symmetry_mean': 'simetria_promedio',\n",
    "    'fractal_dimension_mean': 'dimension_fractal_promedio',\n",
    "    'radius_se': 'radio_se',\n",
    "    'texture_se': 'textura_se',\n",
    "    'perimeter_se': 'perimetro_se',\n",
    "    'area_se': 'area_se',\n",
    "    'smoothness_se': 'suavidad_se',\n",
    "    'compactness_se': 'compacidad_se',\n",
    "    'concavity_se': 'concavidad_se',\n",
    "    'concave points_se': 'puntos_concavos_se',\n",
    "    'symmetry_se': 'simetria_se',\n",
    "    'fractal_dimension_se': 'dimension_fractal_se',\n",
    "    'radius_worst': 'radio_peor',\n",
    "    'texture_worst': 'textura_peor',\n",
    "    'perimeter_worst': 'perimetro_peor',\n",
    "    'area_worst': 'area_peor',\n",
    "    'smoothness_worst': 'suavidad_peor',\n",
    "    'compactness_worst': 'compacidad_peor',\n",
    "    'concavity_worst': 'concavidad_peor',\n",
    "    'concave points_worst': 'puntos_concavos_peor',\n",
    "    'symmetry_worst': 'simetria_peor',\n",
    "    'fractal_dimension_worst': 'dimension_fractal_peor'\n",
    "}"
   ]
  },
  {
   "cell_type": "code",
   "execution_count": 146,
   "metadata": {},
   "outputs": [],
   "source": [
    "crudo_data.rename(columns=columnas_renombradas, inplace=True)"
   ]
  },
  {
   "cell_type": "code",
   "execution_count": 147,
   "metadata": {},
   "outputs": [
    {
     "data": {
      "text/html": [
       "<div>\n",
       "<style scoped>\n",
       "    .dataframe tbody tr th:only-of-type {\n",
       "        vertical-align: middle;\n",
       "    }\n",
       "\n",
       "    .dataframe tbody tr th {\n",
       "        vertical-align: top;\n",
       "    }\n",
       "\n",
       "    .dataframe thead th {\n",
       "        text-align: right;\n",
       "    }\n",
       "</style>\n",
       "<table border=\"1\" class=\"dataframe\">\n",
       "  <thead>\n",
       "    <tr style=\"text-align: right;\">\n",
       "      <th></th>\n",
       "      <th>id</th>\n",
       "      <th>diagnostico</th>\n",
       "      <th>radio_promedio</th>\n",
       "      <th>textura_promedio</th>\n",
       "      <th>perimetro_promedio</th>\n",
       "      <th>area_promedio</th>\n",
       "      <th>suavidad_promedio</th>\n",
       "      <th>compacidad_promedio</th>\n",
       "      <th>concavidad_promedio</th>\n",
       "      <th>puntos_concavos_promedio</th>\n",
       "      <th>...</th>\n",
       "      <th>radio_peor</th>\n",
       "      <th>textura_peor</th>\n",
       "      <th>perimetro_peor</th>\n",
       "      <th>area_peor</th>\n",
       "      <th>suavidad_peor</th>\n",
       "      <th>compacidad_peor</th>\n",
       "      <th>concavidad_peor</th>\n",
       "      <th>puntos_concavos_peor</th>\n",
       "      <th>simetria_peor</th>\n",
       "      <th>dimension_fractal_peor</th>\n",
       "    </tr>\n",
       "  </thead>\n",
       "  <tbody>\n",
       "    <tr>\n",
       "      <th>0</th>\n",
       "      <td>842302</td>\n",
       "      <td>m</td>\n",
       "      <td>17.99</td>\n",
       "      <td>10.38</td>\n",
       "      <td>122.80</td>\n",
       "      <td>1001.0</td>\n",
       "      <td>0.11840</td>\n",
       "      <td>0.27760</td>\n",
       "      <td>0.3001</td>\n",
       "      <td>0.14710</td>\n",
       "      <td>...</td>\n",
       "      <td>25.38</td>\n",
       "      <td>17.33</td>\n",
       "      <td>184.60</td>\n",
       "      <td>2019.0</td>\n",
       "      <td>0.1622</td>\n",
       "      <td>0.6656</td>\n",
       "      <td>0.7119</td>\n",
       "      <td>0.2654</td>\n",
       "      <td>0.4601</td>\n",
       "      <td>0.11890</td>\n",
       "    </tr>\n",
       "    <tr>\n",
       "      <th>1</th>\n",
       "      <td>842517</td>\n",
       "      <td>m</td>\n",
       "      <td>20.57</td>\n",
       "      <td>17.77</td>\n",
       "      <td>132.90</td>\n",
       "      <td>1326.0</td>\n",
       "      <td>0.08474</td>\n",
       "      <td>0.07864</td>\n",
       "      <td>0.0869</td>\n",
       "      <td>0.07017</td>\n",
       "      <td>...</td>\n",
       "      <td>24.99</td>\n",
       "      <td>23.41</td>\n",
       "      <td>158.80</td>\n",
       "      <td>1956.0</td>\n",
       "      <td>0.1238</td>\n",
       "      <td>0.1866</td>\n",
       "      <td>0.2416</td>\n",
       "      <td>0.1860</td>\n",
       "      <td>0.2750</td>\n",
       "      <td>0.08902</td>\n",
       "    </tr>\n",
       "    <tr>\n",
       "      <th>2</th>\n",
       "      <td>84300903</td>\n",
       "      <td>m</td>\n",
       "      <td>19.69</td>\n",
       "      <td>21.25</td>\n",
       "      <td>130.00</td>\n",
       "      <td>1203.0</td>\n",
       "      <td>0.10960</td>\n",
       "      <td>0.15990</td>\n",
       "      <td>0.1974</td>\n",
       "      <td>0.12790</td>\n",
       "      <td>...</td>\n",
       "      <td>23.57</td>\n",
       "      <td>25.53</td>\n",
       "      <td>152.50</td>\n",
       "      <td>1709.0</td>\n",
       "      <td>0.1444</td>\n",
       "      <td>0.4245</td>\n",
       "      <td>0.4504</td>\n",
       "      <td>0.2430</td>\n",
       "      <td>0.3613</td>\n",
       "      <td>0.08758</td>\n",
       "    </tr>\n",
       "    <tr>\n",
       "      <th>3</th>\n",
       "      <td>84348301</td>\n",
       "      <td>m</td>\n",
       "      <td>11.42</td>\n",
       "      <td>20.38</td>\n",
       "      <td>77.58</td>\n",
       "      <td>386.1</td>\n",
       "      <td>0.14250</td>\n",
       "      <td>0.28390</td>\n",
       "      <td>0.2414</td>\n",
       "      <td>0.10520</td>\n",
       "      <td>...</td>\n",
       "      <td>14.91</td>\n",
       "      <td>26.50</td>\n",
       "      <td>98.87</td>\n",
       "      <td>567.7</td>\n",
       "      <td>0.2098</td>\n",
       "      <td>0.8663</td>\n",
       "      <td>0.6869</td>\n",
       "      <td>0.2575</td>\n",
       "      <td>0.6638</td>\n",
       "      <td>0.17300</td>\n",
       "    </tr>\n",
       "    <tr>\n",
       "      <th>4</th>\n",
       "      <td>84358402</td>\n",
       "      <td>m</td>\n",
       "      <td>20.29</td>\n",
       "      <td>14.34</td>\n",
       "      <td>135.10</td>\n",
       "      <td>1297.0</td>\n",
       "      <td>0.10030</td>\n",
       "      <td>0.13280</td>\n",
       "      <td>0.1980</td>\n",
       "      <td>0.10430</td>\n",
       "      <td>...</td>\n",
       "      <td>22.54</td>\n",
       "      <td>16.67</td>\n",
       "      <td>152.20</td>\n",
       "      <td>1575.0</td>\n",
       "      <td>0.1374</td>\n",
       "      <td>0.2050</td>\n",
       "      <td>0.4000</td>\n",
       "      <td>0.1625</td>\n",
       "      <td>0.2364</td>\n",
       "      <td>0.07678</td>\n",
       "    </tr>\n",
       "  </tbody>\n",
       "</table>\n",
       "<p>5 rows × 32 columns</p>\n",
       "</div>"
      ],
      "text/plain": [
       "         id diagnostico  radio_promedio  textura_promedio  perimetro_promedio  \\\n",
       "0    842302           m           17.99             10.38              122.80   \n",
       "1    842517           m           20.57             17.77              132.90   \n",
       "2  84300903           m           19.69             21.25              130.00   \n",
       "3  84348301           m           11.42             20.38               77.58   \n",
       "4  84358402           m           20.29             14.34              135.10   \n",
       "\n",
       "   area_promedio  suavidad_promedio  compacidad_promedio  concavidad_promedio  \\\n",
       "0         1001.0            0.11840              0.27760               0.3001   \n",
       "1         1326.0            0.08474              0.07864               0.0869   \n",
       "2         1203.0            0.10960              0.15990               0.1974   \n",
       "3          386.1            0.14250              0.28390               0.2414   \n",
       "4         1297.0            0.10030              0.13280               0.1980   \n",
       "\n",
       "   puntos_concavos_promedio  ...  radio_peor  textura_peor  perimetro_peor  \\\n",
       "0                   0.14710  ...       25.38         17.33          184.60   \n",
       "1                   0.07017  ...       24.99         23.41          158.80   \n",
       "2                   0.12790  ...       23.57         25.53          152.50   \n",
       "3                   0.10520  ...       14.91         26.50           98.87   \n",
       "4                   0.10430  ...       22.54         16.67          152.20   \n",
       "\n",
       "   area_peor  suavidad_peor  compacidad_peor  concavidad_peor  \\\n",
       "0     2019.0         0.1622           0.6656           0.7119   \n",
       "1     1956.0         0.1238           0.1866           0.2416   \n",
       "2     1709.0         0.1444           0.4245           0.4504   \n",
       "3      567.7         0.2098           0.8663           0.6869   \n",
       "4     1575.0         0.1374           0.2050           0.4000   \n",
       "\n",
       "   puntos_concavos_peor  simetria_peor  dimension_fractal_peor  \n",
       "0                0.2654         0.4601                 0.11890  \n",
       "1                0.1860         0.2750                 0.08902  \n",
       "2                0.2430         0.3613                 0.08758  \n",
       "3                0.2575         0.6638                 0.17300  \n",
       "4                0.1625         0.2364                 0.07678  \n",
       "\n",
       "[5 rows x 32 columns]"
      ]
     },
     "execution_count": 147,
     "metadata": {},
     "output_type": "execute_result"
    }
   ],
   "source": [
    "crudo_data.head()"
   ]
  },
  {
   "cell_type": "markdown",
   "metadata": {},
   "source": [
    "# Guardar una versión clean"
   ]
  },
  {
   "cell_type": "code",
   "execution_count": 148,
   "metadata": {},
   "outputs": [],
   "source": [
    "crudo_data.to_csv('../datasets/clean/data_limpia.csv', index=False)"
   ]
  },
  {
   "cell_type": "markdown",
   "metadata": {},
   "source": [
    "# Trabajar con la version limpia "
   ]
  },
  {
   "cell_type": "code",
   "execution_count": 149,
   "metadata": {},
   "outputs": [],
   "source": [
    "data_limpia = pd.read_csv('../datasets/clean/data_limpia.csv', sep=',')"
   ]
  },
  {
   "cell_type": "code",
   "execution_count": 150,
   "metadata": {},
   "outputs": [
    {
     "data": {
      "text/html": [
       "<div>\n",
       "<style scoped>\n",
       "    .dataframe tbody tr th:only-of-type {\n",
       "        vertical-align: middle;\n",
       "    }\n",
       "\n",
       "    .dataframe tbody tr th {\n",
       "        vertical-align: top;\n",
       "    }\n",
       "\n",
       "    .dataframe thead th {\n",
       "        text-align: right;\n",
       "    }\n",
       "</style>\n",
       "<table border=\"1\" class=\"dataframe\">\n",
       "  <thead>\n",
       "    <tr style=\"text-align: right;\">\n",
       "      <th></th>\n",
       "      <th>id</th>\n",
       "      <th>diagnostico</th>\n",
       "      <th>radio_promedio</th>\n",
       "      <th>textura_promedio</th>\n",
       "      <th>perimetro_promedio</th>\n",
       "      <th>area_promedio</th>\n",
       "      <th>suavidad_promedio</th>\n",
       "      <th>compacidad_promedio</th>\n",
       "      <th>concavidad_promedio</th>\n",
       "      <th>puntos_concavos_promedio</th>\n",
       "      <th>...</th>\n",
       "      <th>radio_peor</th>\n",
       "      <th>textura_peor</th>\n",
       "      <th>perimetro_peor</th>\n",
       "      <th>area_peor</th>\n",
       "      <th>suavidad_peor</th>\n",
       "      <th>compacidad_peor</th>\n",
       "      <th>concavidad_peor</th>\n",
       "      <th>puntos_concavos_peor</th>\n",
       "      <th>simetria_peor</th>\n",
       "      <th>dimension_fractal_peor</th>\n",
       "    </tr>\n",
       "  </thead>\n",
       "  <tbody>\n",
       "    <tr>\n",
       "      <th>0</th>\n",
       "      <td>842302</td>\n",
       "      <td>m</td>\n",
       "      <td>17.99</td>\n",
       "      <td>10.38</td>\n",
       "      <td>122.80</td>\n",
       "      <td>1001.0</td>\n",
       "      <td>0.11840</td>\n",
       "      <td>0.27760</td>\n",
       "      <td>0.3001</td>\n",
       "      <td>0.14710</td>\n",
       "      <td>...</td>\n",
       "      <td>25.38</td>\n",
       "      <td>17.33</td>\n",
       "      <td>184.60</td>\n",
       "      <td>2019.0</td>\n",
       "      <td>0.1622</td>\n",
       "      <td>0.6656</td>\n",
       "      <td>0.7119</td>\n",
       "      <td>0.2654</td>\n",
       "      <td>0.4601</td>\n",
       "      <td>0.11890</td>\n",
       "    </tr>\n",
       "    <tr>\n",
       "      <th>1</th>\n",
       "      <td>842517</td>\n",
       "      <td>m</td>\n",
       "      <td>20.57</td>\n",
       "      <td>17.77</td>\n",
       "      <td>132.90</td>\n",
       "      <td>1326.0</td>\n",
       "      <td>0.08474</td>\n",
       "      <td>0.07864</td>\n",
       "      <td>0.0869</td>\n",
       "      <td>0.07017</td>\n",
       "      <td>...</td>\n",
       "      <td>24.99</td>\n",
       "      <td>23.41</td>\n",
       "      <td>158.80</td>\n",
       "      <td>1956.0</td>\n",
       "      <td>0.1238</td>\n",
       "      <td>0.1866</td>\n",
       "      <td>0.2416</td>\n",
       "      <td>0.1860</td>\n",
       "      <td>0.2750</td>\n",
       "      <td>0.08902</td>\n",
       "    </tr>\n",
       "    <tr>\n",
       "      <th>2</th>\n",
       "      <td>84300903</td>\n",
       "      <td>m</td>\n",
       "      <td>19.69</td>\n",
       "      <td>21.25</td>\n",
       "      <td>130.00</td>\n",
       "      <td>1203.0</td>\n",
       "      <td>0.10960</td>\n",
       "      <td>0.15990</td>\n",
       "      <td>0.1974</td>\n",
       "      <td>0.12790</td>\n",
       "      <td>...</td>\n",
       "      <td>23.57</td>\n",
       "      <td>25.53</td>\n",
       "      <td>152.50</td>\n",
       "      <td>1709.0</td>\n",
       "      <td>0.1444</td>\n",
       "      <td>0.4245</td>\n",
       "      <td>0.4504</td>\n",
       "      <td>0.2430</td>\n",
       "      <td>0.3613</td>\n",
       "      <td>0.08758</td>\n",
       "    </tr>\n",
       "    <tr>\n",
       "      <th>3</th>\n",
       "      <td>84348301</td>\n",
       "      <td>m</td>\n",
       "      <td>11.42</td>\n",
       "      <td>20.38</td>\n",
       "      <td>77.58</td>\n",
       "      <td>386.1</td>\n",
       "      <td>0.14250</td>\n",
       "      <td>0.28390</td>\n",
       "      <td>0.2414</td>\n",
       "      <td>0.10520</td>\n",
       "      <td>...</td>\n",
       "      <td>14.91</td>\n",
       "      <td>26.50</td>\n",
       "      <td>98.87</td>\n",
       "      <td>567.7</td>\n",
       "      <td>0.2098</td>\n",
       "      <td>0.8663</td>\n",
       "      <td>0.6869</td>\n",
       "      <td>0.2575</td>\n",
       "      <td>0.6638</td>\n",
       "      <td>0.17300</td>\n",
       "    </tr>\n",
       "    <tr>\n",
       "      <th>4</th>\n",
       "      <td>84358402</td>\n",
       "      <td>m</td>\n",
       "      <td>20.29</td>\n",
       "      <td>14.34</td>\n",
       "      <td>135.10</td>\n",
       "      <td>1297.0</td>\n",
       "      <td>0.10030</td>\n",
       "      <td>0.13280</td>\n",
       "      <td>0.1980</td>\n",
       "      <td>0.10430</td>\n",
       "      <td>...</td>\n",
       "      <td>22.54</td>\n",
       "      <td>16.67</td>\n",
       "      <td>152.20</td>\n",
       "      <td>1575.0</td>\n",
       "      <td>0.1374</td>\n",
       "      <td>0.2050</td>\n",
       "      <td>0.4000</td>\n",
       "      <td>0.1625</td>\n",
       "      <td>0.2364</td>\n",
       "      <td>0.07678</td>\n",
       "    </tr>\n",
       "  </tbody>\n",
       "</table>\n",
       "<p>5 rows × 32 columns</p>\n",
       "</div>"
      ],
      "text/plain": [
       "         id diagnostico  radio_promedio  textura_promedio  perimetro_promedio  \\\n",
       "0    842302           m           17.99             10.38              122.80   \n",
       "1    842517           m           20.57             17.77              132.90   \n",
       "2  84300903           m           19.69             21.25              130.00   \n",
       "3  84348301           m           11.42             20.38               77.58   \n",
       "4  84358402           m           20.29             14.34              135.10   \n",
       "\n",
       "   area_promedio  suavidad_promedio  compacidad_promedio  concavidad_promedio  \\\n",
       "0         1001.0            0.11840              0.27760               0.3001   \n",
       "1         1326.0            0.08474              0.07864               0.0869   \n",
       "2         1203.0            0.10960              0.15990               0.1974   \n",
       "3          386.1            0.14250              0.28390               0.2414   \n",
       "4         1297.0            0.10030              0.13280               0.1980   \n",
       "\n",
       "   puntos_concavos_promedio  ...  radio_peor  textura_peor  perimetro_peor  \\\n",
       "0                   0.14710  ...       25.38         17.33          184.60   \n",
       "1                   0.07017  ...       24.99         23.41          158.80   \n",
       "2                   0.12790  ...       23.57         25.53          152.50   \n",
       "3                   0.10520  ...       14.91         26.50           98.87   \n",
       "4                   0.10430  ...       22.54         16.67          152.20   \n",
       "\n",
       "   area_peor  suavidad_peor  compacidad_peor  concavidad_peor  \\\n",
       "0     2019.0         0.1622           0.6656           0.7119   \n",
       "1     1956.0         0.1238           0.1866           0.2416   \n",
       "2     1709.0         0.1444           0.4245           0.4504   \n",
       "3      567.7         0.2098           0.8663           0.6869   \n",
       "4     1575.0         0.1374           0.2050           0.4000   \n",
       "\n",
       "   puntos_concavos_peor  simetria_peor  dimension_fractal_peor  \n",
       "0                0.2654         0.4601                 0.11890  \n",
       "1                0.1860         0.2750                 0.08902  \n",
       "2                0.2430         0.3613                 0.08758  \n",
       "3                0.2575         0.6638                 0.17300  \n",
       "4                0.1625         0.2364                 0.07678  \n",
       "\n",
       "[5 rows x 32 columns]"
      ]
     },
     "execution_count": 150,
     "metadata": {},
     "output_type": "execute_result"
    }
   ],
   "source": [
    "data_limpia.head()"
   ]
  },
  {
   "cell_type": "markdown",
   "metadata": {},
   "source": [
    "## Eliminar columna Id"
   ]
  },
  {
   "cell_type": "markdown",
   "metadata": {},
   "source": [
    "La columna de id no es relevante para el diagnostico de cancer benigno o maligno pues solo es es un identificador de la muestra"
   ]
  },
  {
   "cell_type": "code",
   "execution_count": 151,
   "metadata": {},
   "outputs": [],
   "source": [
    "data_limpia.drop('id', axis=1,inplace=True)"
   ]
  },
  {
   "cell_type": "code",
   "execution_count": 152,
   "metadata": {},
   "outputs": [
    {
     "data": {
      "text/plain": [
       "Index(['diagnostico', 'radio_promedio', 'textura_promedio',\n",
       "       'perimetro_promedio', 'area_promedio', 'suavidad_promedio',\n",
       "       'compacidad_promedio', 'concavidad_promedio',\n",
       "       'puntos_concavos_promedio', 'simetria_promedio',\n",
       "       'dimension_fractal_promedio', 'radio_se', 'textura_se', 'perimetro_se',\n",
       "       'area_se', 'suavidad_se', 'compacidad_se', 'concavidad_se',\n",
       "       'puntos_concavos_se', 'simetria_se', 'dimension_fractal_se',\n",
       "       'radio_peor', 'textura_peor', 'perimetro_peor', 'area_peor',\n",
       "       'suavidad_peor', 'compacidad_peor', 'concavidad_peor',\n",
       "       'puntos_concavos_peor', 'simetria_peor', 'dimension_fractal_peor'],\n",
       "      dtype='object')"
      ]
     },
     "execution_count": 152,
     "metadata": {},
     "output_type": "execute_result"
    }
   ],
   "source": [
    "data_limpia.columns"
   ]
  },
  {
   "cell_type": "code",
   "execution_count": 153,
   "metadata": {},
   "outputs": [],
   "source": [
    "# eliminar columnas con clave se, si bien ayudan al EDA no son representativas para el modelo\n",
    "colms_a_eliminar = ['area_se', 'suavidad_se', 'compacidad_se', 'concavidad_se',\n",
    "       'puntos_concavos_se', 'simetria_se', 'dimension_fractal_se']\n",
    "\n",
    "data_limpia.drop(colms_a_eliminar, axis=1,inplace=True)"
   ]
  },
  {
   "cell_type": "markdown",
   "metadata": {},
   "source": [
    "# Etiquetas binarias numéricas"
   ]
  },
  {
   "cell_type": "code",
   "execution_count": 154,
   "metadata": {},
   "outputs": [
    {
     "name": "stdout",
     "output_type": "stream",
     "text": [
      "diagnostico\n",
      "0    357\n",
      "1    212\n",
      "Name: count, dtype: int64\n"
     ]
    }
   ],
   "source": [
    "# Convertir las categorías a valores binarios\n",
    "data_limpia['diagnostico'] = data_limpia['diagnostico'].map({'m': 1, 'b': 0})\n",
    "\n",
    "print(data_limpia['diagnostico'].value_counts())"
   ]
  },
  {
   "cell_type": "markdown",
   "metadata": {},
   "source": [
    "# Guardar la data curada sin normalizar"
   ]
  },
  {
   "cell_type": "code",
   "execution_count": 155,
   "metadata": {},
   "outputs": [],
   "source": [
    "data_limpia.to_csv('../datasets/curated/data_limpia_sin_normalizar.csv', index=False)"
   ]
  },
  {
   "cell_type": "markdown",
   "metadata": {},
   "source": [
    "# Solucionar el desbalanceo entre clases "
   ]
  },
  {
   "cell_type": "code",
   "execution_count": 156,
   "metadata": {},
   "outputs": [
    {
     "data": {
      "text/plain": [
       "diagnostico\n",
       "0    357\n",
       "1    212\n",
       "Name: count, dtype: int64"
      ]
     },
     "execution_count": 156,
     "metadata": {},
     "output_type": "execute_result"
    }
   ],
   "source": [
    "data_limpia['diagnostico'].value_counts()"
   ]
  },
  {
   "cell_type": "markdown",
   "metadata": {},
   "source": [
    "se decide utilizar la tecnica SMOTE (Synthetic Minority Over-sampling Technique) que crea muestras sintéticas basándose en vecinos cercanos. Esto es útil para aumentar la variedad de datos."
   ]
  },
  {
   "cell_type": "code",
   "execution_count": 157,
   "metadata": {},
   "outputs": [
    {
     "name": "stdout",
     "output_type": "stream",
     "text": [
      "diagnostico\n",
      "1    357\n",
      "0    357\n",
      "Name: count, dtype: int64\n"
     ]
    }
   ],
   "source": [
    "from imblearn.over_sampling import SMOTE\n",
    "\n",
    "# Separar características y etiquetas\n",
    "X = data_limpia.drop('diagnostico', axis=1)\n",
    "y = data_limpia['diagnostico']\n",
    "\n",
    "# Aplicar SMOTE\n",
    "smote = SMOTE(random_state=42)\n",
    "X_resampled, y_resampled = smote.fit_resample(X, y)\n",
    "\n",
    "# Verificar nueva distribución\n",
    "print(pd.Series(y_resampled).value_counts())"
   ]
  },
  {
   "cell_type": "code",
   "execution_count": 158,
   "metadata": {},
   "outputs": [
    {
     "name": "stdout",
     "output_type": "stream",
     "text": [
      "   radio_promedio  textura_promedio  perimetro_promedio  area_promedio  \\\n",
      "0           17.99             10.38              122.80         1001.0   \n",
      "1           20.57             17.77              132.90         1326.0   \n",
      "2           19.69             21.25              130.00         1203.0   \n",
      "3           11.42             20.38               77.58          386.1   \n",
      "4           20.29             14.34              135.10         1297.0   \n",
      "\n",
      "   suavidad_promedio  compacidad_promedio  concavidad_promedio  \\\n",
      "0            0.11840              0.27760               0.3001   \n",
      "1            0.08474              0.07864               0.0869   \n",
      "2            0.10960              0.15990               0.1974   \n",
      "3            0.14250              0.28390               0.2414   \n",
      "4            0.10030              0.13280               0.1980   \n",
      "\n",
      "   puntos_concavos_promedio  simetria_promedio  dimension_fractal_promedio  \\\n",
      "0                   0.14710             0.2419                     0.07871   \n",
      "1                   0.07017             0.1812                     0.05667   \n",
      "2                   0.12790             0.2069                     0.05999   \n",
      "3                   0.10520             0.2597                     0.09744   \n",
      "4                   0.10430             0.1809                     0.05883   \n",
      "\n",
      "   ...  textura_peor  perimetro_peor  area_peor  suavidad_peor  \\\n",
      "0  ...         17.33          184.60     2019.0         0.1622   \n",
      "1  ...         23.41          158.80     1956.0         0.1238   \n",
      "2  ...         25.53          152.50     1709.0         0.1444   \n",
      "3  ...         26.50           98.87      567.7         0.2098   \n",
      "4  ...         16.67          152.20     1575.0         0.1374   \n",
      "\n",
      "   compacidad_peor  concavidad_peor  puntos_concavos_peor  simetria_peor  \\\n",
      "0           0.6656           0.7119                0.2654         0.4601   \n",
      "1           0.1866           0.2416                0.1860         0.2750   \n",
      "2           0.4245           0.4504                0.2430         0.3613   \n",
      "3           0.8663           0.6869                0.2575         0.6638   \n",
      "4           0.2050           0.4000                0.1625         0.2364   \n",
      "\n",
      "   dimension_fractal_peor  diagnostico  \n",
      "0                 0.11890            1  \n",
      "1                 0.08902            1  \n",
      "2                 0.08758            1  \n",
      "3                 0.17300            1  \n",
      "4                 0.07678            1  \n",
      "\n",
      "[5 rows x 24 columns]\n"
     ]
    }
   ],
   "source": [
    "# Crear un DataFrame con los datos balanceados\n",
    "data_balanceada = pd.DataFrame(X_resampled, columns=X.columns)\n",
    "data_balanceada['diagnostico'] = y_resampled\n",
    "\n",
    "# Verificar el nuevo DataFrame\n",
    "print(data_balanceada.head())"
   ]
  },
  {
   "cell_type": "markdown",
   "metadata": {},
   "source": [
    "# Realizar normalización ?"
   ]
  },
  {
   "cell_type": "code",
   "execution_count": 159,
   "metadata": {},
   "outputs": [
    {
     "name": "stdout",
     "output_type": "stream",
     "text": [
      "       radio_promedio  textura_promedio  perimetro_promedio  area_promedio  \\\n",
      "count      714.000000        714.000000          714.000000     714.000000   \n",
      "mean        14.787257         19.692775           96.577944     717.175200   \n",
      "std          3.651211          4.121530           25.211887     366.463846   \n",
      "min          6.981000          9.710000           43.790000     143.500000   \n",
      "25%         12.042500         16.832500           77.800000     446.050000   \n",
      "50%         13.993721         19.595000           91.272616     602.964361   \n",
      "75%         17.506297         22.149280          114.848347     952.005858   \n",
      "max         28.110000         39.280000          188.500000    2501.000000   \n",
      "\n",
      "       suavidad_promedio  compacidad_promedio  concavidad_promedio  \\\n",
      "count         714.000000           714.000000           714.000000   \n",
      "mean            0.097274             0.111708             0.101670   \n",
      "std             0.013428             0.053039             0.080627   \n",
      "min             0.052630             0.019380             0.000000   \n",
      "25%             0.087925             0.070887             0.035838   \n",
      "50%             0.097120             0.105368             0.085930   \n",
      "75%             0.106100             0.138825             0.151625   \n",
      "max             0.163400             0.345400             0.426800   \n",
      "\n",
      "       puntos_concavos_promedio  simetria_promedio  \\\n",
      "count                714.000000         714.000000   \n",
      "mean                   0.056163           0.183397   \n",
      "std                    0.039938           0.027089   \n",
      "min                    0.000000           0.106000   \n",
      "25%                    0.023340           0.164200   \n",
      "50%                    0.048405           0.181300   \n",
      "75%                    0.084291           0.197474   \n",
      "max                    0.201200           0.304000   \n",
      "\n",
      "       dimension_fractal_promedio  ...  radio_peor  textura_peor  \\\n",
      "count                  714.000000  ...  714.000000    714.000000   \n",
      "mean                     0.062641  ...   17.192848     26.306795   \n",
      "std                      0.006784  ...    5.012895      5.923413   \n",
      "min                      0.049960  ...    7.930000     12.020000   \n",
      "25%                      0.057802  ...   13.340000     21.985000   \n",
      "50%                      0.061475  ...   16.052307     26.160000   \n",
      "75%                      0.065865  ...   20.516581     30.377500   \n",
      "max                      0.097440  ...   36.040000     49.540000   \n",
      "\n",
      "       perimetro_peor    area_peor  suavidad_peor  compacidad_peor  \\\n",
      "count      714.000000   714.000000     714.000000       714.000000   \n",
      "mean       113.651848   979.256442       0.134205         0.275399   \n",
      "std         34.739229   592.871673       0.022038         0.156133   \n",
      "min         50.410000   185.200000       0.071170         0.027290   \n",
      "25%         86.677500   546.400000       0.120102         0.162650   \n",
      "50%        105.925915   782.850000       0.134100         0.243584   \n",
      "75%        136.725000  1302.764990       0.148200         0.362845   \n",
      "max        251.200000  4254.000000       0.222600         1.058000   \n",
      "\n",
      "       concavidad_peor  puntos_concavos_peor  simetria_peor  \\\n",
      "count       714.000000            714.000000     714.000000   \n",
      "mean          0.304697              0.127221       0.297799   \n",
      "std           0.207735              0.066276       0.064206   \n",
      "min           0.000000              0.000000       0.156500   \n",
      "25%           0.139125              0.073965       0.255700   \n",
      "50%           0.285350              0.122550       0.287150   \n",
      "75%           0.421802              0.178300       0.324950   \n",
      "max           1.252000              0.291000       0.663800   \n",
      "\n",
      "       dimension_fractal_peor  \n",
      "count              714.000000  \n",
      "mean                 0.085050  \n",
      "std                  0.017807  \n",
      "min                  0.055040  \n",
      "25%                  0.072657  \n",
      "50%                  0.081490  \n",
      "75%                  0.093195  \n",
      "max                  0.207500  \n",
      "\n",
      "[8 rows x 23 columns]\n"
     ]
    }
   ],
   "source": [
    "# Excluir la columna 'diagnostico' y realizar el describe()\n",
    "data_sin_diagnostico = data_balanceada.drop(columns=['diagnostico'])\n",
    "print(data_sin_diagnostico.describe())"
   ]
  },
  {
   "cell_type": "markdown",
   "metadata": {},
   "source": [
    "Los valores de maximo y minimo de las caracteristicas numericas de la data tiene valores muy distintos, ya que sin esta transformación, las características con valores más grandes podrían dominar el entrenamiento del modelo"
   ]
  },
  {
   "cell_type": "code",
   "execution_count": 160,
   "metadata": {},
   "outputs": [
    {
     "name": "stdout",
     "output_type": "stream",
     "text": [
      "   radio_promedio  textura_promedio  perimetro_promedio  area_promedio  \\\n",
      "0        0.521037          0.022658            0.545989       0.363733   \n",
      "1        0.643144          0.272574            0.615783       0.501591   \n",
      "2        0.601496          0.390260            0.595743       0.449417   \n",
      "3        0.210090          0.360839            0.233501       0.102906   \n",
      "4        0.629893          0.156578            0.630986       0.489290   \n",
      "\n",
      "   suavidad_promedio  compacidad_promedio  concavidad_promedio  \\\n",
      "0           0.593753             0.792037             0.703140   \n",
      "1           0.289880             0.181768             0.203608   \n",
      "2           0.514309             0.431017             0.462512   \n",
      "3           0.811321             0.811361             0.565604   \n",
      "4           0.430351             0.347893             0.463918   \n",
      "\n",
      "   puntos_concavos_promedio  simetria_promedio  dimension_fractal_promedio  \\\n",
      "0                  0.731113           0.686364                    0.605518   \n",
      "1                  0.348757           0.379798                    0.141323   \n",
      "2                  0.635686           0.509596                    0.211247   \n",
      "3                  0.522863           0.776263                    1.000000   \n",
      "4                  0.518390           0.378283                    0.186816   \n",
      "\n",
      "   ...  textura_peor  perimetro_peor  area_peor  suavidad_peor  \\\n",
      "0  ...      0.141525        0.668310   0.450698       0.601136   \n",
      "1  ...      0.303571        0.539818   0.435214       0.347553   \n",
      "2  ...      0.360075        0.508442   0.374508       0.483590   \n",
      "3  ...      0.385928        0.241347   0.094008       0.915472   \n",
      "4  ...      0.123934        0.506948   0.341575       0.437364   \n",
      "\n",
      "   compacidad_peor  concavidad_peor  puntos_concavos_peor  simetria_peor  \\\n",
      "0         0.619292         0.568610              0.912027       0.598462   \n",
      "1         0.154563         0.192971              0.639175       0.233590   \n",
      "2         0.385375         0.359744              0.835052       0.403706   \n",
      "3         0.814012         0.548642              0.884880       1.000000   \n",
      "4         0.172415         0.319489              0.558419       0.157500   \n",
      "\n",
      "   dimension_fractal_peor  diagnostico  \n",
      "0                0.418864            1  \n",
      "1                0.222878            1  \n",
      "2                0.213433            1  \n",
      "3                0.773711            1  \n",
      "4                0.142595            1  \n",
      "\n",
      "[5 rows x 24 columns]\n"
     ]
    }
   ],
   "source": [
    "from sklearn.preprocessing import MinMaxScaler\n",
    "\n",
    "# Crear una copia del DataFrame para evitar modificar el original\n",
    "data_balanceada_normalizada = data_balanceada.copy()\n",
    "\n",
    "# Seleccionar las columnas a normalizar\n",
    "columnas_a_normalizar = ['radio_promedio', 'textura_promedio', 'perimetro_promedio', 'area_promedio',\n",
    "                         'suavidad_promedio', 'compacidad_promedio', 'concavidad_promedio',\n",
    "                         'puntos_concavos_promedio', 'simetria_promedio', 'dimension_fractal_promedio',\n",
    "                         'radio_peor', 'textura_peor', 'perimetro_peor',\n",
    "                         'area_peor', 'suavidad_peor', 'compacidad_peor', 'concavidad_peor',\n",
    "                         'puntos_concavos_peor', 'simetria_peor', 'dimension_fractal_peor']\n",
    "\n",
    "# Aplicar MinMaxScaler solo a las columnas seleccionadas\n",
    "scaler = MinMaxScaler()\n",
    "data_balanceada_normalizada[columnas_a_normalizar] = scaler.fit_transform(data_balanceada[columnas_a_normalizar])\n",
    "\n",
    "# Verificar el DataFrame normalizado\n",
    "print(data_balanceada_normalizada.head())\n"
   ]
  },
  {
   "cell_type": "code",
   "execution_count": 161,
   "metadata": {},
   "outputs": [
    {
     "name": "stdout",
     "output_type": "stream",
     "text": [
      "Index(['radio_promedio', 'textura_promedio', 'perimetro_promedio',\n",
      "       'area_promedio', 'suavidad_promedio', 'compacidad_promedio',\n",
      "       'concavidad_promedio', 'puntos_concavos_promedio', 'simetria_promedio',\n",
      "       'dimension_fractal_promedio', 'radio_se', 'textura_se', 'perimetro_se',\n",
      "       'radio_peor', 'textura_peor', 'perimetro_peor', 'area_peor',\n",
      "       'suavidad_peor', 'compacidad_peor', 'concavidad_peor',\n",
      "       'puntos_concavos_peor', 'simetria_peor', 'dimension_fractal_peor',\n",
      "       'diagnostico'],\n",
      "      dtype='object')\n"
     ]
    }
   ],
   "source": [
    "print(data_balanceada_normalizada.columns)"
   ]
  },
  {
   "cell_type": "code",
   "execution_count": 162,
   "metadata": {},
   "outputs": [
    {
     "name": "stdout",
     "output_type": "stream",
     "text": [
      "   diagnostico  radio_promedio  textura_promedio  perimetro_promedio  \\\n",
      "0            1        0.521037          0.022658            0.545989   \n",
      "1            1        0.643144          0.272574            0.615783   \n",
      "2            1        0.601496          0.390260            0.595743   \n",
      "3            1        0.210090          0.360839            0.233501   \n",
      "4            1        0.629893          0.156578            0.630986   \n",
      "\n",
      "   area_promedio  suavidad_promedio  compacidad_promedio  concavidad_promedio  \\\n",
      "0       0.363733           0.593753             0.792037             0.703140   \n",
      "1       0.501591           0.289880             0.181768             0.203608   \n",
      "2       0.449417           0.514309             0.431017             0.462512   \n",
      "3       0.102906           0.811321             0.811361             0.565604   \n",
      "4       0.489290           0.430351             0.347893             0.463918   \n",
      "\n",
      "   puntos_concavos_promedio  simetria_promedio  ...  radio_peor  textura_peor  \\\n",
      "0                  0.731113           0.686364  ...    0.620776      0.141525   \n",
      "1                  0.348757           0.379798  ...    0.606901      0.303571   \n",
      "2                  0.635686           0.509596  ...    0.556386      0.360075   \n",
      "3                  0.522863           0.776263  ...    0.248310      0.385928   \n",
      "4                  0.518390           0.378283  ...    0.519744      0.123934   \n",
      "\n",
      "   perimetro_peor  area_peor  suavidad_peor  compacidad_peor  concavidad_peor  \\\n",
      "0        0.668310   0.450698       0.601136         0.619292         0.568610   \n",
      "1        0.539818   0.435214       0.347553         0.154563         0.192971   \n",
      "2        0.508442   0.374508       0.483590         0.385375         0.359744   \n",
      "3        0.241347   0.094008       0.915472         0.814012         0.548642   \n",
      "4        0.506948   0.341575       0.437364         0.172415         0.319489   \n",
      "\n",
      "   puntos_concavos_peor  simetria_peor  dimension_fractal_peor  \n",
      "0              0.912027       0.598462                0.418864  \n",
      "1              0.639175       0.233590                0.222878  \n",
      "2              0.835052       0.403706                0.213433  \n",
      "3              0.884880       1.000000                0.773711  \n",
      "4              0.558419       0.157500                0.142595  \n",
      "\n",
      "[5 rows x 24 columns]\n"
     ]
    }
   ],
   "source": [
    "# Mover la columna 'diagnostico' a la posición 0\n",
    "columna_diagnostico = data_balanceada_normalizada.pop('diagnostico')  # Extraer la columna\n",
    "data_balanceada_normalizada.insert(0, 'diagnostico', columna_diagnostico)  # Insertarla en la posición 0\n",
    "\n",
    "# Verificar el resultado\n",
    "print(data_balanceada_normalizada.head())"
   ]
  },
  {
   "cell_type": "markdown",
   "metadata": {},
   "source": [
    "# Preparar el dataset final (curated) ajustado para el entrenamiento"
   ]
  },
  {
   "cell_type": "code",
   "execution_count": 163,
   "metadata": {},
   "outputs": [],
   "source": [
    "data_balanceada_normalizada.to_csv('../datasets/clean/data_limpia_normalizada.csv', index=False)"
   ]
  }
 ],
 "metadata": {
  "kernelspec": {
   "display_name": "Python 3",
   "language": "python",
   "name": "python3"
  },
  "language_info": {
   "codemirror_mode": {
    "name": "ipython",
    "version": 3
   },
   "file_extension": ".py",
   "mimetype": "text/x-python",
   "name": "python",
   "nbconvert_exporter": "python",
   "pygments_lexer": "ipython3",
   "version": "3.13.0"
  }
 },
 "nbformat": 4,
 "nbformat_minor": 2
}
