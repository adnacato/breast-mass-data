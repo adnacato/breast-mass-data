{
 "cells": [
  {
   "cell_type": "markdown",
   "metadata": {},
   "source": [
    "# Modeling\n",
    "Se configura la experimentación de varios modelos, en este caso para Clasificación, se muestran graficas, metricas comparando el desempeño de cada modelo"
   ]
  },
  {
   "cell_type": "code",
   "execution_count": 2,
   "metadata": {},
   "outputs": [],
   "source": [
    "# Librerias\n",
    "import pandas as pd\n",
    "from sklearn.model_selection import train_test_split\n",
    "from sklearn.linear_model import LogisticRegression\n",
    "from sklearn.tree import DecisionTreeClassifier\n",
    "from sklearn.ensemble import RandomForestClassifier\n",
    "from sklearn.metrics import accuracy_score, recall_score, precision_score, f1_score\n",
    "import numpy as np\n",
    "import matplotlib.pyplot as plt\n",
    "import seaborn as sns\n",
    "from sklearn.model_selection import cross_val_score\n"
   ]
  },
  {
   "cell_type": "markdown",
   "metadata": {},
   "source": [
    "# Leer la data"
   ]
  },
  {
   "cell_type": "code",
   "execution_count": 3,
   "metadata": {},
   "outputs": [],
   "source": [
    "ml_balanc_norm = pd.read_csv('../datasets/curated/ml_dataset.csv')  # data normalizada y balanceada\n",
    "ml_sin_balanc_norm = pd.read_csv('../datasets/curated/data_limpia_sin_normalizar.csv')  # data sin normalizar ni balancear"
   ]
  },
  {
   "cell_type": "code",
   "execution_count": 4,
   "metadata": {},
   "outputs": [],
   "source": [
    "# funcion para visualizar los diferentes datasets\n",
    "def caracteristicas_data(df, nombre):\n",
    "    print(f'\\tVisualización del dataset: {nombre} \\n')\n",
    "    print('-'*50)\n",
    "    print('Dimensión del dataset: ')\n",
    "    print(df.shape)\n",
    "    print('-'*50)\n",
    "    print('Variable diagnostico: ')\n",
    "    print(df['diagnostico'].value_counts())\n",
    "    print('-'*50)\n",
    "    print('Información de la data: ', df.describe())"
   ]
  },
  {
   "cell_type": "code",
   "execution_count": 5,
   "metadata": {},
   "outputs": [
    {
     "name": "stdout",
     "output_type": "stream",
     "text": [
      "\tVisualización del dataset: Data_Normalizada_Balanceada \n",
      "\n",
      "--------------------------------------------------\n",
      "Dimensión del dataset: \n",
      "(713, 24)\n",
      "--------------------------------------------------\n",
      "Variable diagnostico: \n",
      "diagnostico\n",
      "1    357\n",
      "0    356\n",
      "Name: count, dtype: int64\n",
      "--------------------------------------------------\n",
      "Información de la data:         diagnostico  radio_promedio  textura_promedio  perimetro_promedio  \\\n",
      "count   713.000000      713.000000        713.000000          713.000000   \n",
      "mean      0.500701        0.369975          0.337895            0.365296   \n",
      "std       0.500351        0.172371          0.139254            0.173808   \n",
      "min       0.000000        0.033603          0.000000            0.028540   \n",
      "25%       0.000000        0.239907          0.241123            0.235229   \n",
      "50%       1.000000        0.332113          0.334461            0.328486   \n",
      "75%       1.000000        0.498717          0.420697            0.491197   \n",
      "max       1.000000        1.000000          1.000000            1.000000   \n",
      "\n",
      "       area_promedio  suavidad_promedio  compacidad_promedio  \\\n",
      "count     713.000000         713.000000           713.000000   \n",
      "mean        0.243682           0.402780             0.283354   \n",
      "std         0.155287           0.121123             0.162748   \n",
      "min         0.011410           0.000000             0.000000   \n",
      "25%         0.128399           0.318588             0.157751   \n",
      "50%         0.194922           0.401600             0.263958   \n",
      "75%         0.343008           0.482712             0.366603   \n",
      "max         1.000000           1.000000             1.000000   \n",
      "\n",
      "       concavidad_promedio  puntos_concavos_promedio  simetria_promedio  ...  \\\n",
      "count           713.000000                713.000000         713.000000  ...   \n",
      "mean              0.238549                  0.279533           0.390826  ...   \n",
      "std               0.188832                  0.198360           0.136896  ...   \n",
      "min               0.000000                  0.000000           0.000000  ...   \n",
      "25%               0.084161                  0.116451           0.293434  ...   \n",
      "50%               0.201640                  0.240855           0.380303  ...   \n",
      "75%               0.355904                  0.419437           0.462117  ...   \n",
      "max               1.000000                  1.000000           1.000000  ...   \n",
      "\n",
      "       radio_peor  textura_peor  perimetro_peor   area_peor  suavidad_peor  \\\n",
      "count  713.000000    713.000000      713.000000  713.000000     713.000000   \n",
      "mean     0.329984      0.381031        0.315407    0.195431       0.416041   \n",
      "std      0.178028      0.157839        0.172731    0.145630       0.145512   \n",
      "min      0.026610      0.000000        0.020320    0.009438       0.000000   \n",
      "25%      0.192458      0.265991        0.180736    0.088847       0.323120   \n",
      "50%      0.289932      0.377132        0.276617    0.147070       0.415572   \n",
      "75%      0.448314      0.489339        0.430251    0.274730       0.508684   \n",
      "max      1.000000      1.000000        1.000000    1.000000       1.000000   \n",
      "\n",
      "       compacidad_peor  concavidad_peor  puntos_concavos_peor  simetria_peor  \\\n",
      "count       713.000000       713.000000            713.000000     713.000000   \n",
      "mean          0.240927         0.243710              0.437797       0.278544   \n",
      "std           0.151482         0.165788              0.227324       0.126652   \n",
      "min           0.000000         0.000000              0.000000       0.000000   \n",
      "25%           0.131472         0.111422              0.254536       0.195545   \n",
      "50%           0.209865         0.228514              0.421306       0.257441   \n",
      "75%           0.325604         0.337090              0.613402       0.332348   \n",
      "max           1.000000         1.000000              1.000000       1.000000   \n",
      "\n",
      "       dimension_fractal_peor  \n",
      "count              713.000000  \n",
      "mean                 0.196760  \n",
      "std                  0.116859  \n",
      "min                  0.000000  \n",
      "25%                  0.115309  \n",
      "50%                  0.173357  \n",
      "75%                  0.248983  \n",
      "max                  1.000000  \n",
      "\n",
      "[8 rows x 24 columns]\n"
     ]
    }
   ],
   "source": [
    "caracteristicas_data(df=ml_balanc_norm, nombre=\"Data_Normalizada_Balanceada\")"
   ]
  },
  {
   "cell_type": "code",
   "execution_count": 6,
   "metadata": {},
   "outputs": [
    {
     "name": "stdout",
     "output_type": "stream",
     "text": [
      "\tVisualización del dataset: Data_sin_balancear_sin_normalizar \n",
      "\n",
      "--------------------------------------------------\n",
      "Dimensión del dataset: \n",
      "(569, 24)\n",
      "--------------------------------------------------\n",
      "Variable diagnostico: \n",
      "diagnostico\n",
      "0    357\n",
      "1    212\n",
      "Name: count, dtype: int64\n",
      "--------------------------------------------------\n",
      "Información de la data:         diagnostico  radio_promedio  textura_promedio  perimetro_promedio  \\\n",
      "count   569.000000      569.000000        569.000000          569.000000   \n",
      "mean      0.372583       14.127292         19.289649           91.969033   \n",
      "std       0.483918        3.524049          4.301036           24.298981   \n",
      "min       0.000000        6.981000          9.710000           43.790000   \n",
      "25%       0.000000       11.700000         16.170000           75.170000   \n",
      "50%       0.000000       13.370000         18.840000           86.240000   \n",
      "75%       1.000000       15.780000         21.800000          104.100000   \n",
      "max       1.000000       28.110000         39.280000          188.500000   \n",
      "\n",
      "       area_promedio  suavidad_promedio  compacidad_promedio  \\\n",
      "count     569.000000         569.000000           569.000000   \n",
      "mean      654.889104           0.096360             0.104341   \n",
      "std       351.914129           0.014064             0.052813   \n",
      "min       143.500000           0.052630             0.019380   \n",
      "25%       420.300000           0.086370             0.064920   \n",
      "50%       551.100000           0.095870             0.092630   \n",
      "75%       782.700000           0.105300             0.130400   \n",
      "max      2501.000000           0.163400             0.345400   \n",
      "\n",
      "       concavidad_promedio  puntos_concavos_promedio  simetria_promedio  ...  \\\n",
      "count           569.000000                569.000000         569.000000  ...   \n",
      "mean              0.088799                  0.048919           0.181162  ...   \n",
      "std               0.079720                  0.038803           0.027414  ...   \n",
      "min               0.000000                  0.000000           0.106000  ...   \n",
      "25%               0.029560                  0.020310           0.161900  ...   \n",
      "50%               0.061540                  0.033500           0.179200  ...   \n",
      "75%               0.130700                  0.074000           0.195700  ...   \n",
      "max               0.426800                  0.201200           0.304000  ...   \n",
      "\n",
      "       radio_peor  textura_peor  perimetro_peor    area_peor  suavidad_peor  \\\n",
      "count  569.000000    569.000000      569.000000   569.000000     569.000000   \n",
      "mean    16.269190     25.677223      107.261213   880.583128       0.132369   \n",
      "std      4.833242      6.146258       33.602542   569.356993       0.022832   \n",
      "min      7.930000     12.020000       50.410000   185.200000       0.071170   \n",
      "25%     13.010000     21.080000       84.110000   515.300000       0.116600   \n",
      "50%     14.970000     25.410000       97.660000   686.500000       0.131300   \n",
      "75%     18.790000     29.720000      125.400000  1084.000000       0.146000   \n",
      "max     36.040000     49.540000      251.200000  4254.000000       0.222600   \n",
      "\n",
      "       compacidad_peor  concavidad_peor  puntos_concavos_peor  simetria_peor  \\\n",
      "count       569.000000       569.000000            569.000000     569.000000   \n",
      "mean          0.254265         0.272188              0.114606       0.290076   \n",
      "std           0.157336         0.208624              0.065732       0.061867   \n",
      "min           0.027290         0.000000              0.000000       0.156500   \n",
      "25%           0.147200         0.114500              0.064930       0.250400   \n",
      "50%           0.211900         0.226700              0.099930       0.282200   \n",
      "75%           0.339100         0.382900              0.161400       0.317900   \n",
      "max           1.058000         1.252000              0.291000       0.663800   \n",
      "\n",
      "       dimension_fractal_peor  \n",
      "count              569.000000  \n",
      "mean                 0.083946  \n",
      "std                  0.018061  \n",
      "min                  0.055040  \n",
      "25%                  0.071460  \n",
      "50%                  0.080040  \n",
      "75%                  0.092080  \n",
      "max                  0.207500  \n",
      "\n",
      "[8 rows x 24 columns]\n"
     ]
    }
   ],
   "source": [
    "caracteristicas_data(df=ml_sin_balanc_norm, nombre=\"Data_sin_balancear_sin_normalizar\")"
   ]
  },
  {
   "cell_type": "markdown",
   "metadata": {},
   "source": [
    "# Dividir los dataset en entrenamiento, validación y prueba"
   ]
  },
  {
   "cell_type": "code",
   "execution_count": 7,
   "metadata": {},
   "outputs": [],
   "source": [
    "from sklearn.model_selection import train_test_split\n",
    "\n",
    "def preparar_datos(df):\n",
    "    # Separar la variable objetivo de las variables predictoras\n",
    "    X = df.drop(columns=['diagnostico'])\n",
    "    y = df['diagnostico']\n",
    "    \n",
    "    # Dividir el dataset en entrenamiento (75%) y prueba (25%)\n",
    "    X_train_full, X_test, y_train_full, y_test = train_test_split(X, y, test_size=0.25, random_state=12345)\n",
    "    \n",
    "    # Dividir el conjunto de entrenamiento (X_train_full, y_train_full) en entrenamiento (75%) y validación (25%)\n",
    "    X_train, X_val, y_train, y_val = train_test_split(X_train_full, y_train_full, test_size=0.25, random_state=12345)\n",
    "    \n",
    "    return X_train, X_val, X_test, y_train, y_val, y_test"
   ]
  },
  {
   "cell_type": "code",
   "execution_count": 8,
   "metadata": {},
   "outputs": [],
   "source": [
    "# X1, y1 son los datos balanceados y normalizados\n",
    "# X2, y2 son los datos sin balancear y sin normalizar\n",
    "# todo lo que sea X son las caracteristicas y lo que sea y es el objetivo (target)\n",
    "X1_entrenamiento, X1_validacion, X1_prueba, y1_entrenamiento, y1_validacion, y1_prueba = preparar_datos(ml_balanc_norm)\n",
    "X2_entrenamiento, X2_validacion, X2_prueba, y2_entrenamiento, y2_validacion, y2_prueba = preparar_datos(ml_sin_balanc_norm)"
   ]
  },
  {
   "cell_type": "code",
   "execution_count": 9,
   "metadata": {},
   "outputs": [
    {
     "name": "stdout",
     "output_type": "stream",
     "text": [
      "<class 'pandas.core.frame.DataFrame'>\n",
      "Index: 400 entries, 537 to 83\n",
      "Data columns (total 23 columns):\n",
      " #   Column                      Non-Null Count  Dtype  \n",
      "---  ------                      --------------  -----  \n",
      " 0   radio_promedio              400 non-null    float64\n",
      " 1   textura_promedio            400 non-null    float64\n",
      " 2   perimetro_promedio          400 non-null    float64\n",
      " 3   area_promedio               400 non-null    float64\n",
      " 4   suavidad_promedio           400 non-null    float64\n",
      " 5   compacidad_promedio         400 non-null    float64\n",
      " 6   concavidad_promedio         400 non-null    float64\n",
      " 7   puntos_concavos_promedio    400 non-null    float64\n",
      " 8   simetria_promedio           400 non-null    float64\n",
      " 9   dimension_fractal_promedio  400 non-null    float64\n",
      " 10  radio_se                    400 non-null    float64\n",
      " 11  textura_se                  400 non-null    float64\n",
      " 12  perimetro_se                400 non-null    float64\n",
      " 13  radio_peor                  400 non-null    float64\n",
      " 14  textura_peor                400 non-null    float64\n",
      " 15  perimetro_peor              400 non-null    float64\n",
      " 16  area_peor                   400 non-null    float64\n",
      " 17  suavidad_peor               400 non-null    float64\n",
      " 18  compacidad_peor             400 non-null    float64\n",
      " 19  concavidad_peor             400 non-null    float64\n",
      " 20  puntos_concavos_peor        400 non-null    float64\n",
      " 21  simetria_peor               400 non-null    float64\n",
      " 22  dimension_fractal_peor      400 non-null    float64\n",
      "dtypes: float64(23)\n",
      "memory usage: 75.0 KB\n"
     ]
    }
   ],
   "source": [
    "X1_entrenamiento.info()"
   ]
  },
  {
   "cell_type": "markdown",
   "metadata": {},
   "source": [
    "# Entrenar y evaluar modelos predictivos"
   ]
  },
  {
   "cell_type": "code",
   "execution_count": 10,
   "metadata": {},
   "outputs": [],
   "source": [
    "historico_metricas = pd.DataFrame()"
   ]
  },
  {
   "cell_type": "markdown",
   "metadata": {},
   "source": [
    "Se genera esta variable global para hacer un historico de todos los modelos probados y seleccionar el de mejor desempeño una vez culminado el proyecto "
   ]
  },
  {
   "cell_type": "markdown",
   "metadata": {},
   "source": [
    "# Regresion logistica"
   ]
  },
  {
   "cell_type": "code",
   "execution_count": 11,
   "metadata": {},
   "outputs": [],
   "source": [
    "\n",
    "\n",
    "def regresionLogistica(X_train, y_train, X_test, y_test, parametros, nombre_dataset, nombre_modelo):\n",
    "    global historico_metricas  # Accedemos al DataFrame global\n",
    "    \n",
    "    # Crear el modelo de regresión logística con los parámetros proporcionados\n",
    "    reg_log = LogisticRegression(random_state=12345, **parametros)\n",
    "    # Ajustar el modelo a los datos de entrenamiento\n",
    "    reg_log.fit(X_train, y_train)\n",
    "    \n",
    "    # Predicciones en entrenamiento y prueba\n",
    "    y_pred_train = reg_log.predict(X_train)\n",
    "    y_pred_test = reg_log.predict(X_test)\n",
    "    \n",
    "    # Calcular métricas\n",
    "    metricas = {\n",
    "        'Modelo': nombre_modelo,\n",
    "        'Dataset': nombre_dataset,\n",
    "        'C': parametros.get('C', 'default'),\n",
    "        'Solver': parametros.get('solver', 'default'),\n",
    "        'Accuracy_train': accuracy_score(y_train, y_pred_train),\n",
    "        'Accuracy_test': accuracy_score(y_test, y_pred_test),\n",
    "        'Recall_train': recall_score(y_train, y_pred_train),\n",
    "        'Recall_test': recall_score(y_test, y_pred_test),\n",
    "        'Precision_train': precision_score(y_train, y_pred_train),\n",
    "        'Precision_test': precision_score(y_test, y_pred_test),\n",
    "        'F1_train': f1_score(y_train, y_pred_train),\n",
    "        'F1_test': f1_score(y_test, y_pred_test),\n",
    "        'coeficiente': reg_log.coef_\n",
    "    }\n",
    "    \n",
    "    print('\\nMÉTRICAS DE EVALUACIÓN DEL MODELO:')\n",
    "    for key, value in metricas.items():\n",
    "        if isinstance(value, (int, float)):  # Si el valor es numérico\n",
    "            print(f'{key}: {value:.3f}')\n",
    "        else:  # Si no es numérico (como 'default')\n",
    "            print(f'{key}: {value}')\n",
    "    \n",
    "    \n",
    "\n",
    "    # Validación cruzada con 5 particiones\n",
    "    scores = cross_val_score(reg_log, X_train, y_train, cv=5, scoring='accuracy')\n",
    "\n",
    "    # Resultados\n",
    "    print(\"Accuracy promedio:\", scores.mean())\n",
    "    print(\"Desviación estándar:\", scores.std())\n",
    "        \n",
    "    # Agregar las métricas al DataFrame global\n",
    "    historico_metricas = pd.concat([historico_metricas, pd.DataFrame([metricas])], ignore_index=True)\n",
    "    \n",
    "    return metricas"
   ]
  },
  {
   "cell_type": "markdown",
   "metadata": {},
   "source": [
    "*** solver: Literal['lbfgs', 'liblinear', 'newton-cg', 'newton-cholesky', 'sag', 'saga'] = \"lbfgs\""
   ]
  },
  {
   "cell_type": "code",
   "execution_count": 12,
   "metadata": {},
   "outputs": [
    {
     "name": "stdout",
     "output_type": "stream",
     "text": [
      "\n",
      "MÉTRICAS DE EVALUACIÓN DEL MODELO:\n",
      "Modelo: Regresion_Logistica_default\n",
      "Dataset: data_normalizada_balanceada\n",
      "C: default\n",
      "Solver: default\n",
      "Accuracy_train: 0.953\n",
      "Accuracy_test: 0.966\n",
      "Recall_train: 0.937\n",
      "Recall_test: 0.976\n",
      "Precision_train: 0.970\n",
      "Precision_test: 0.954\n",
      "F1_train: 0.953\n",
      "F1_test: 0.965\n",
      "coeficiente: [[ 1.46342997  1.28523762  1.43736537  1.2220189   0.5199191   0.34927869\n",
      "   1.17722008  1.71073616 -0.02234555 -0.9498045   0.66537666 -0.63371077\n",
      "   0.69268324  1.76261738  2.48753055  1.53381462  1.25012633  1.76341791\n",
      "   0.89050544  1.45234097  2.4081551   1.30897599  0.17101666]]\n",
      "Accuracy promedio: 0.945\n",
      "Desviación estándar: 0.020310096011589895\n"
     ]
    },
    {
     "name": "stderr",
     "output_type": "stream",
     "text": [
      "c:\\Users\\Aurora\\AppData\\Local\\Programs\\Python\\Python313\\Lib\\site-packages\\sklearn\\linear_model\\_logistic.py:465: ConvergenceWarning: lbfgs failed to converge (status=1):\n",
      "STOP: TOTAL NO. OF ITERATIONS REACHED LIMIT.\n",
      "\n",
      "Increase the number of iterations (max_iter) or scale the data as shown in:\n",
      "    https://scikit-learn.org/stable/modules/preprocessing.html\n",
      "Please also refer to the documentation for alternative solver options:\n",
      "    https://scikit-learn.org/stable/modules/linear_model.html#logistic-regression\n",
      "  n_iter_i = _check_optimize_result(\n",
      "c:\\Users\\Aurora\\AppData\\Local\\Programs\\Python\\Python313\\Lib\\site-packages\\sklearn\\linear_model\\_logistic.py:465: ConvergenceWarning: lbfgs failed to converge (status=1):\n",
      "STOP: TOTAL NO. OF ITERATIONS REACHED LIMIT.\n",
      "\n",
      "Increase the number of iterations (max_iter) or scale the data as shown in:\n",
      "    https://scikit-learn.org/stable/modules/preprocessing.html\n",
      "Please also refer to the documentation for alternative solver options:\n",
      "    https://scikit-learn.org/stable/modules/linear_model.html#logistic-regression\n",
      "  n_iter_i = _check_optimize_result(\n"
     ]
    },
    {
     "name": "stdout",
     "output_type": "stream",
     "text": [
      "\n",
      "MÉTRICAS DE EVALUACIÓN DEL MODELO:\n",
      "Modelo: Regresion_Logistica\n",
      "Dataset: data_sin_normalizar_balancear\n",
      "C: default\n",
      "Solver: default\n",
      "Accuracy_train: 0.947\n",
      "Accuracy_test: 0.958\n",
      "Recall_train: 0.927\n",
      "Recall_test: 0.902\n",
      "Precision_train: 0.934\n",
      "Precision_test: 0.979\n",
      "F1_train: 0.931\n",
      "F1_test: 0.939\n",
      "coeficiente: [[-1.33933302e+00 -2.54839805e-01  2.52827471e-02  1.78177362e-04\n",
      "   5.81896315e-02  2.32428527e-01  3.17583816e-01  1.43052424e-01\n",
      "   9.43227897e-02  1.30925510e-02  1.38586262e-01 -9.25321372e-02\n",
      "   9.32890825e-01 -1.50610762e+00  3.49408395e-01  9.28258716e-02\n",
      "   2.95295544e-02  7.84452204e-02  5.70643261e-01  7.31519548e-01\n",
      "   2.47655893e-01  2.10023395e-01  4.94888408e-02]]\n",
      "Accuracy promedio: 0.9277281746031747\n",
      "Desviación estándar: 0.02970919605096982\n"
     ]
    },
    {
     "name": "stderr",
     "output_type": "stream",
     "text": [
      "c:\\Users\\Aurora\\AppData\\Local\\Programs\\Python\\Python313\\Lib\\site-packages\\sklearn\\linear_model\\_logistic.py:465: ConvergenceWarning: lbfgs failed to converge (status=1):\n",
      "STOP: TOTAL NO. OF ITERATIONS REACHED LIMIT.\n",
      "\n",
      "Increase the number of iterations (max_iter) or scale the data as shown in:\n",
      "    https://scikit-learn.org/stable/modules/preprocessing.html\n",
      "Please also refer to the documentation for alternative solver options:\n",
      "    https://scikit-learn.org/stable/modules/linear_model.html#logistic-regression\n",
      "  n_iter_i = _check_optimize_result(\n",
      "c:\\Users\\Aurora\\AppData\\Local\\Programs\\Python\\Python313\\Lib\\site-packages\\sklearn\\linear_model\\_logistic.py:465: ConvergenceWarning: lbfgs failed to converge (status=1):\n",
      "STOP: TOTAL NO. OF ITERATIONS REACHED LIMIT.\n",
      "\n",
      "Increase the number of iterations (max_iter) or scale the data as shown in:\n",
      "    https://scikit-learn.org/stable/modules/preprocessing.html\n",
      "Please also refer to the documentation for alternative solver options:\n",
      "    https://scikit-learn.org/stable/modules/linear_model.html#logistic-regression\n",
      "  n_iter_i = _check_optimize_result(\n",
      "c:\\Users\\Aurora\\AppData\\Local\\Programs\\Python\\Python313\\Lib\\site-packages\\sklearn\\linear_model\\_logistic.py:465: ConvergenceWarning: lbfgs failed to converge (status=1):\n",
      "STOP: TOTAL NO. OF ITERATIONS REACHED LIMIT.\n",
      "\n",
      "Increase the number of iterations (max_iter) or scale the data as shown in:\n",
      "    https://scikit-learn.org/stable/modules/preprocessing.html\n",
      "Please also refer to the documentation for alternative solver options:\n",
      "    https://scikit-learn.org/stable/modules/linear_model.html#logistic-regression\n",
      "  n_iter_i = _check_optimize_result(\n",
      "c:\\Users\\Aurora\\AppData\\Local\\Programs\\Python\\Python313\\Lib\\site-packages\\sklearn\\linear_model\\_logistic.py:465: ConvergenceWarning: lbfgs failed to converge (status=1):\n",
      "STOP: TOTAL NO. OF ITERATIONS REACHED LIMIT.\n",
      "\n",
      "Increase the number of iterations (max_iter) or scale the data as shown in:\n",
      "    https://scikit-learn.org/stable/modules/preprocessing.html\n",
      "Please also refer to the documentation for alternative solver options:\n",
      "    https://scikit-learn.org/stable/modules/linear_model.html#logistic-regression\n",
      "  n_iter_i = _check_optimize_result(\n"
     ]
    }
   ],
   "source": [
    "parametros = {}  \n",
    "# 'C': 1.0, # Regularización inversa\n",
    "# 'solver': 'lbfgs', # Algoritmo de optimización por defecto\n",
    "\n",
    "metricas_data_1 = regresionLogistica(X1_entrenamiento, y1_entrenamiento, X1_prueba, y1_prueba, parametros, \"data_normalizada_balanceada\",\"Regresion_Logistica_default\")\n",
    "metricas_data_2 = regresionLogistica(X2_entrenamiento, y2_entrenamiento, X2_prueba, y2_prueba, parametros, \"data_sin_normalizar_balancear\",\"Regresion_Logistica\")"
   ]
  },
  {
   "cell_type": "code",
   "execution_count": 13,
   "metadata": {},
   "outputs": [
    {
     "name": "stdout",
     "output_type": "stream",
     "text": [
      "\n",
      "MÉTRICAS DE EVALUACIÓN DEL MODELO:\n",
      "Modelo: Regresion_Logistica\n",
      "Dataset: data_normalizada_balanceada\n",
      "C: 1.000\n",
      "Solver: liblinear\n",
      "Accuracy_train: 0.958\n",
      "Accuracy_test: 0.933\n",
      "Recall_train: 0.956\n",
      "Recall_test: 0.929\n",
      "Precision_train: 0.961\n",
      "Precision_test: 0.929\n",
      "F1_train: 0.959\n",
      "F1_test: 0.929\n",
      "coeficiente: [[ 0.53867058  0.73404631  0.60276397  0.81353964 -0.33520096  0.36936691\n",
      "   1.68810959  2.05251115 -0.69591782 -1.48413561  0.63945081 -1.14803253\n",
      "   0.50809085  1.16965766  2.09729275  1.02092769  1.07934724  1.03047693\n",
      "   0.80990631  1.45627736  2.08195668  0.79022347 -0.01247395]]\n",
      "Accuracy promedio: 0.945\n",
      "Desviación estándar: 0.023184046238739254\n",
      "\n",
      "MÉTRICAS DE EVALUACIÓN DEL MODELO:\n",
      "Modelo: Regresion_Logistica\n",
      "Dataset: data_sin_normalizar_balancear\n",
      "C: 1.000\n",
      "Solver: liblinear\n",
      "Accuracy_train: 0.950\n",
      "Accuracy_test: 0.965\n",
      "Recall_train: 0.911\n",
      "Recall_test: 0.922\n",
      "Precision_train: 0.957\n",
      "Precision_test: 0.979\n",
      "F1_train: 0.933\n",
      "F1_test: 0.949\n",
      "coeficiente: [[-1.79588185 -0.03976503  0.20248733 -0.01116299  0.11629414  0.31305255\n",
      "   0.44935131  0.24569134  0.18410879  0.01014135  0.23347272 -0.66080714\n",
      "   0.9119903  -1.60033816  0.23858203  0.01957623  0.03666381  0.16781221\n",
      "   0.77937941  1.05353404  0.46744155  0.45364047  0.06505736]]\n",
      "Accuracy promedio: 0.9402777777777779\n",
      "Desviación estándar: 0.027529270337381683\n"
     ]
    }
   ],
   "source": [
    "parametros = {'C': 1.0, 'solver': 'liblinear'}  \n",
    "# 'C': 1.0, # Regularización inversa\n",
    "# 'solver': 'lbfgs', # Algoritmo de optimización por defecto\n",
    "\n",
    "metricas_data_1 = regresionLogistica(X1_entrenamiento, y1_entrenamiento, X1_prueba, y1_prueba, parametros, \"data_normalizada_balanceada\",\"Regresion_Logistica\")\n",
    "metricas_data_2 = regresionLogistica(X2_entrenamiento, y2_entrenamiento, X2_prueba, y2_prueba, parametros, \"data_sin_normalizar_balancear\",\"Regresion_Logistica\")"
   ]
  },
  {
   "cell_type": "markdown",
   "metadata": {},
   "source": [
    "Data Normalizada y Balanceada:\n",
    "Accuracy en prueba (0.966) y recall (0.976) son muy altos y consistentes con los valores de entrenamiento que da a entender que el modelo generaliza bien en este dataset, y los ajustes han sido adecuados.\n",
    "La precisión ligeramente menor en prueba (0.954) indica que podrías estar sacrificando un poco la especificidad en favor de sensibilidad, que es lo que se busca en este este dataset de cancer.\n",
    "\n",
    "en la data sin normalizar el Recall en prueba (0.901) es significativamente más bajo comparado con el accuracy (0.958) y precisión (0.979). Esto podría indicar que el modelo está pasando por alto algunos positivos reales en este dataset."
   ]
  },
  {
   "cell_type": "markdown",
   "metadata": {},
   "source": [
    "# Arbol de decision"
   ]
  },
  {
   "cell_type": "code",
   "execution_count": 14,
   "metadata": {},
   "outputs": [],
   "source": [
    "def arbolDecision(X_train, y_train, X_test, y_test, parametros_arbol, nombre_dataset, nombre_modelo):\n",
    "    global historico_metricas  # Acceso al DataFrame global\n",
    "    \n",
    "    # Crear el modelo de árbol de decisión con los parámetros proporcionados\n",
    "    arbol_clf = DecisionTreeClassifier(random_state=12345, **parametros_arbol)\n",
    "    \n",
    "    # Ajustar el modelo a los datos de entrenamiento\n",
    "    arbol_clf.fit(X_train, y_train)\n",
    "    \n",
    "    # Predicciones en entrenamiento y prueba\n",
    "    y_pred_train = arbol_clf.predict(X_train)\n",
    "    y_pred_test = arbol_clf.predict(X_test)\n",
    "    \n",
    "    # Calcular métricas\n",
    "    metricas = {\n",
    "        'Modelo': nombre_modelo,\n",
    "        'Dataset': nombre_dataset,\n",
    "        'Max_Depth': parametros_arbol.get('max_depth', 'default'),\n",
    "        'Min_Samples_Split': parametros_arbol.get('min_samples_split', 'default'),\n",
    "        'Accuracy_train': accuracy_score(y_train, y_pred_train),\n",
    "        'Accuracy_test': accuracy_score(y_test, y_pred_test),\n",
    "        'Recall_train': recall_score(y_train, y_pred_train),\n",
    "        'Recall_test': recall_score(y_test, y_pred_test),\n",
    "        'Precision_train': precision_score(y_train, y_pred_train),\n",
    "        'Precision_test': precision_score(y_test, y_pred_test),\n",
    "        'F1_train': f1_score(y_train, y_pred_train),\n",
    "        'F1_test': f1_score(y_test, y_pred_test)\n",
    "    }\n",
    "    \n",
    "    print('\\nMÉTRICAS DE EVALUACIÓN DEL MODELO:')\n",
    "    for key, value in metricas.items():\n",
    "        if isinstance(value, (int, float)):  # Si el valor es numérico\n",
    "            print(f'{key}: {value:.3f}')\n",
    "        else:  # Si no es numérico (como 'default')\n",
    "            print(f'{key}: {value}')\n",
    "    \n",
    "    # Validación cruzada con 5 particiones\n",
    "    scores = cross_val_score(arbol_clf, X_train, y_train, cv=5, scoring='accuracy')\n",
    "\n",
    "    # Resultados\n",
    "    print(\"Accuracy promedio:\", scores.mean())\n",
    "    print(\"Desviación estándar:\", scores.std())\n",
    "    \n",
    "    # Agregar las métricas al DataFrame global\n",
    "    historico_metricas = pd.concat([historico_metricas, pd.DataFrame([metricas])], ignore_index=True)\n",
    "    \n",
    "    return metricas"
   ]
  },
  {
   "cell_type": "markdown",
   "metadata": {},
   "source": [
    "class DecisionTreeClassifier(\n",
    "    *,\n",
    "    criterion: Literal['gini', 'entropy', 'log_loss'] = \"gini\",\n",
    "    splitter: Literal['best', 'random'] = \"best\",\n",
    "    max_depth: Int | None = None,\n",
    "    min_samples_split: float = 2,\n",
    "    min_samples_leaf: float = 1,\n",
    "    min_weight_fraction_leaf: Float = 0,\n",
    "    max_features: float | Literal['auto', 'sqrt', 'log2'] | None = None,\n",
    "    random_state: Int | RandomState | None = None,\n",
    "    max_leaf_nodes: Int | None = None,\n",
    "    min_impurity_decrease: Float = 0,\n",
    "    class_weight: Mapping | str | Sequence[Mapping] | None = None,\n",
    "    ccp_alpha: float = 0\n",
    ")"
   ]
  },
  {
   "cell_type": "code",
   "execution_count": 15,
   "metadata": {},
   "outputs": [
    {
     "name": "stdout",
     "output_type": "stream",
     "text": [
      "\n",
      "MÉTRICAS DE EVALUACIÓN DEL MODELO:\n",
      "Modelo: Arbol_decision_default\n",
      "Dataset: data_normalizada_balanceada\n",
      "Max_Depth: default\n",
      "Min_Samples_Split: default\n",
      "Accuracy_train: 1.000\n",
      "Accuracy_test: 0.950\n",
      "Recall_train: 1.000\n",
      "Recall_test: 0.988\n",
      "Precision_train: 1.000\n",
      "Precision_test: 0.913\n",
      "F1_train: 1.000\n",
      "F1_test: 0.949\n",
      "Accuracy promedio: 0.9349999999999999\n",
      "Desviación estándar: 0.014577379737113242\n",
      "\n",
      "MÉTRICAS DE EVALUACIÓN DEL MODELO:\n",
      "Modelo: Arbol_decision_default\n",
      "Dataset: data_sin_normalizar_balancear\n",
      "Max_Depth: default\n",
      "Min_Samples_Split: default\n",
      "Accuracy_train: 1.000\n",
      "Accuracy_test: 0.902\n",
      "Recall_train: 1.000\n",
      "Recall_test: 0.882\n",
      "Precision_train: 1.000\n",
      "Precision_test: 0.849\n",
      "F1_train: 1.000\n",
      "F1_test: 0.865\n",
      "Accuracy promedio: 0.9089781746031746\n",
      "Desviación estándar: 0.02555213548050355\n"
     ]
    }
   ],
   "source": [
    "# Parámetros para el árbol de decisión\n",
    "parametros_arbol = {}  # Parámetros por defecto\n",
    "# Modelo para dataset normalizado\n",
    "metricas_normalizado = arbolDecision(X1_entrenamiento, y1_entrenamiento, X1_prueba, y1_prueba, parametros_arbol, \"data_normalizada_balanceada\", \"Arbol_decision_default\")\n",
    "\n",
    "# Modelo para dataset sin normalizar\n",
    "metricas_sin_normalizar = arbolDecision(X2_entrenamiento, y2_entrenamiento, X2_prueba, y2_prueba, parametros_arbol, \"data_sin_normalizar_balancear\", \"Arbol_decision_default\")"
   ]
  },
  {
   "cell_type": "code",
   "execution_count": 16,
   "metadata": {},
   "outputs": [
    {
     "name": "stdout",
     "output_type": "stream",
     "text": [
      "\n",
      "MÉTRICAS DE EVALUACIÓN DEL MODELO:\n",
      "Modelo: Arbol_decision\n",
      "Dataset: data_normalizada_balanceada\n",
      "Max_Depth: 3.000\n",
      "Min_Samples_Split: 2.000\n",
      "Accuracy_train: 0.970\n",
      "Accuracy_test: 0.944\n",
      "Recall_train: 0.947\n",
      "Recall_test: 0.941\n",
      "Precision_train: 0.995\n",
      "Precision_test: 0.941\n",
      "F1_train: 0.970\n",
      "F1_test: 0.941\n",
      "Accuracy promedio: 0.9275\n",
      "Desviación estándar: 0.02893959225697557\n",
      "\n",
      "MÉTRICAS DE EVALUACIÓN DEL MODELO:\n",
      "Modelo: Arbol_decision\n",
      "Dataset: data_sin_normalizar_balancear\n",
      "Max_Depth: 3.000\n",
      "Min_Samples_Split: 2.000\n",
      "Accuracy_train: 0.981\n",
      "Accuracy_test: 0.895\n",
      "Recall_train: 1.000\n",
      "Recall_test: 0.902\n",
      "Precision_train: 0.953\n",
      "Precision_test: 0.821\n",
      "F1_train: 0.976\n",
      "F1_test: 0.860\n",
      "Accuracy promedio: 0.9183531746031747\n",
      "Desviación estándar: 0.02372121105265253\n"
     ]
    }
   ],
   "source": [
    "# Parámetros para el árbol de decisión\n",
    "parametros_arbol = {\n",
    "    'max_depth': 3, \n",
    "    'min_samples_split': 2,\n",
    "    'min_samples_leaf': 2\n",
    "}\n",
    "\n",
    "# 'max_depth': [3, 5, 10, None],\n",
    "# 'min_samples_split': [2, 5, 10],\n",
    "# 'min_samples_leaf': [1, 2, 4],\n",
    "\n",
    "\n",
    "# Modelo para dataset normalizado\n",
    "metricas_normalizado = arbolDecision(X1_entrenamiento, y1_entrenamiento, X1_prueba, y1_prueba, parametros_arbol, \"data_normalizada_balanceada\", \"Arbol_decision\")\n",
    "\n",
    "# Modelo para dataset sin normalizar\n",
    "metricas_sin_normalizar = arbolDecision(X2_entrenamiento, y2_entrenamiento, X2_prueba, y2_prueba, parametros_arbol, \"data_sin_normalizar_balancear\", \"Arbol_decision\")"
   ]
  },
  {
   "cell_type": "markdown",
   "metadata": {},
   "source": [
    "En el modelo de Árbol de Decisión, las pruebas con el dataset balanceado muestran métricas de accuracy de 0.99 y recall de 0.95, lo que podría ser indicativo de sobreentrenamiento. Por otro lado, en el dataset sin balancear ni normalizar, las métricas en prueba son de accuracy de 0.902 y recall de 0.88, pero las métricas de entrenamiento alcanzan valores perfectos de 1.0. Esto revela una discrepancia significativa entre el rendimiento en entrenamiento y prueba, lo que refuerza la hipótesis de sobreentrenamiento. En contraste, el modelo ajustado del Árbol de Decisión logra un mejor equilibrio entre entrenamiento y prueba. En el dataset normalizado, el accuracy en prueba mejora a 0.944, mientras que el recall mantiene un nivel satisfactorio de 0.941."
   ]
  },
  {
   "cell_type": "markdown",
   "metadata": {},
   "source": [
    "# Random Forest Classifier"
   ]
  },
  {
   "cell_type": "code",
   "execution_count": 17,
   "metadata": {},
   "outputs": [],
   "source": [
    "def randomForestClassifier(X_train, y_train, X_test, y_test, parametros_bosque, nombre_dataset, nombre_modelo):\n",
    "    global historico_metricas  # Acceso al DataFrame global\n",
    "    \n",
    "    # Crear el modelo de Random Forest con los parámetros proporcionados\n",
    "    bosque_clf = RandomForestClassifier(random_state=12345, **parametros_bosque)\n",
    "    \n",
    "    # Ajustar el modelo a los datos de entrenamiento\n",
    "    bosque_clf.fit(X_train, y_train)\n",
    "    \n",
    "    # Predicciones en entrenamiento y prueba\n",
    "    y_pred_train = bosque_clf.predict(X_train)\n",
    "    y_pred_test = bosque_clf.predict(X_test)\n",
    "    \n",
    "    # Calcular métricas\n",
    "    metricas = {\n",
    "        'Modelo': nombre_modelo,\n",
    "        'Dataset': nombre_dataset,\n",
    "        'n_estimators': parametros_bosque.get('n_estimators', 'default'),\n",
    "        'max_depth': parametros_bosque.get('max_depth', 'default'),\n",
    "        'max_features': parametros_bosque.get('max_features', 'default'),\n",
    "        'bootstrap': parametros_bosque.get('bootstrap', 'default'),\n",
    "        'Accuracy_train': accuracy_score(y_train, y_pred_train),\n",
    "        'Accuracy_test': accuracy_score(y_test, y_pred_test),\n",
    "        'Recall_train': recall_score(y_train, y_pred_train),\n",
    "        'Recall_test': recall_score(y_test, y_pred_test),\n",
    "        'Precision_train': precision_score(y_train, y_pred_train),\n",
    "        'Precision_test': precision_score(y_test, y_pred_test),\n",
    "        'F1_train': f1_score(y_train, y_pred_train),\n",
    "        'F1_test': f1_score(y_test, y_pred_test)\n",
    "    }\n",
    "    \n",
    "    print('\\nMÉTRICAS DE EVALUACIÓN DEL MODELO:')\n",
    "    for key, value in metricas.items():\n",
    "        if isinstance(value, (int, float)):  # Si el valor es numérico\n",
    "            print(f'{key}: {value:.3f}')\n",
    "        else:  # Si no es numérico (como 'default')\n",
    "            print(f'{key}: {value}')\n",
    "    \n",
    "    # Validación cruzada con 5 particiones\n",
    "    scores = cross_val_score(bosque_clf, X_train, y_train, cv=5, scoring='accuracy')\n",
    "\n",
    "    # Resultados\n",
    "    print(\"Accuracy promedio:\", scores.mean())\n",
    "    print(\"Desviación estándar:\", scores.std())\n",
    "    \n",
    "    # Agregar las métricas al DataFrame global\n",
    "    historico_metricas = pd.concat([historico_metricas, pd.DataFrame([metricas])], ignore_index=True)\n",
    "    \n",
    "    return metricas"
   ]
  },
  {
   "cell_type": "code",
   "execution_count": 18,
   "metadata": {},
   "outputs": [
    {
     "name": "stdout",
     "output_type": "stream",
     "text": [
      "\n",
      "MÉTRICAS DE EVALUACIÓN DEL MODELO:\n",
      "Modelo: Random_Forest_default\n",
      "Dataset: data_normalizada_balanceada\n",
      "n_estimators: default\n",
      "max_depth: default\n",
      "max_features: default\n",
      "bootstrap: default\n",
      "Accuracy_train: 1.000\n",
      "Accuracy_test: 0.966\n",
      "Recall_train: 1.000\n",
      "Recall_test: 0.965\n",
      "Precision_train: 1.000\n",
      "Precision_test: 0.965\n",
      "F1_train: 1.000\n",
      "F1_test: 0.965\n",
      "Accuracy promedio: 0.9724999999999999\n",
      "Desviación estándar: 0.012247448713915915\n",
      "\n",
      "MÉTRICAS DE EVALUACIÓN DEL MODELO:\n",
      "Modelo: Random_Forest_default\n",
      "Dataset: data_sin_normalizar_balancear\n",
      "n_estimators: default\n",
      "max_depth: default\n",
      "max_features: default\n",
      "bootstrap: default\n",
      "Accuracy_train: 1.000\n",
      "Accuracy_test: 0.958\n",
      "Recall_train: 1.000\n",
      "Recall_test: 0.941\n",
      "Precision_train: 1.000\n",
      "Precision_test: 0.941\n",
      "F1_train: 1.000\n",
      "F1_test: 0.941\n",
      "Accuracy promedio: 0.9497519841269841\n",
      "Desviación estándar: 0.027145039884852167\n"
     ]
    }
   ],
   "source": [
    "parametros_bosque = {}  # Sin parámetros personalizados (valores por defecto)\n",
    "metricas_por_defecto_1 = randomForestClassifier(X1_entrenamiento, y1_entrenamiento, X1_prueba, y1_prueba, parametros_bosque, \"data_normalizada_balanceada\", \"Random_Forest_default\")\n",
    "\n",
    "metricas_por_defecto_2 = randomForestClassifier(X2_entrenamiento, y2_entrenamiento, X2_prueba, y2_prueba, parametros_bosque, \"data_sin_normalizar_balancear\", \"Random_Forest_default\")"
   ]
  },
  {
   "cell_type": "code",
   "execution_count": 19,
   "metadata": {},
   "outputs": [
    {
     "name": "stdout",
     "output_type": "stream",
     "text": [
      "\n",
      "MÉTRICAS DE EVALUACIÓN DEL MODELO:\n",
      "Modelo: Random_Forest\n",
      "Dataset: data_normalizada_balanceada\n",
      "n_estimators: 100.000\n",
      "max_depth: None\n",
      "max_features: sqrt\n",
      "bootstrap: 1.000\n",
      "Accuracy_train: 1.000\n",
      "Accuracy_test: 0.966\n",
      "Recall_train: 1.000\n",
      "Recall_test: 0.965\n",
      "Precision_train: 1.000\n",
      "Precision_test: 0.965\n",
      "F1_train: 1.000\n",
      "F1_test: 0.965\n",
      "Accuracy promedio: 0.9724999999999999\n",
      "Desviación estándar: 0.012247448713915915\n",
      "\n",
      "MÉTRICAS DE EVALUACIÓN DEL MODELO:\n",
      "Modelo: Random_Forest\n",
      "Dataset: data_sin_normalizar_balancear\n",
      "n_estimators: 100.000\n",
      "max_depth: None\n",
      "max_features: sqrt\n",
      "bootstrap: 1.000\n",
      "Accuracy_train: 1.000\n",
      "Accuracy_test: 0.958\n",
      "Recall_train: 1.000\n",
      "Recall_test: 0.941\n",
      "Precision_train: 1.000\n",
      "Precision_test: 0.941\n",
      "F1_train: 1.000\n",
      "F1_test: 0.941\n",
      "Accuracy promedio: 0.9497519841269841\n",
      "Desviación estándar: 0.027145039884852167\n"
     ]
    }
   ],
   "source": [
    "# Definir parámetros para el modelo Random Forest\n",
    "parametros_bosque = {\n",
    "    'n_estimators': 100,       # Número de árboles en el bosque\n",
    "    'max_depth': None,           # Profundidad máxima de los árboles\n",
    "    'max_features': 'sqrt',    # Máximo número de características en cada división\n",
    "    'bootstrap': True          # Usar bootstrap para crear subconjuntos de entrenamiento\n",
    "}\n",
    "\n",
    "# 'n_estimators': [100, 200],\n",
    "# 'max_depth': [None, 10, 20],\n",
    "# 'min_samples_split': [2, 5],\n",
    "# 'min_samples_leaf': [1, 2],\n",
    "# 'max_features': ['sqrt', 'log2'],\n",
    "# 'bootstrap': [True, False],\n",
    "# 'criterion': ['gini', 'entropy']\n",
    "\n",
    "# Ejecutar modelo con dataset normalizado\n",
    "metricas_normalizado = randomForestClassifier(X1_entrenamiento, y1_entrenamiento, X1_prueba, y1_prueba, parametros_bosque, \"data_normalizada_balanceada\", \"Random_Forest\")\n",
    "\n",
    "# Ejecutar modelo con dataset sin normalizar\n",
    "metricas_sin_normalizar = randomForestClassifier(X2_entrenamiento, y2_entrenamiento, X2_prueba, y2_prueba, parametros_bosque, \"data_sin_normalizar_balancear\", \"Random_Forest\")"
   ]
  },
  {
   "cell_type": "markdown",
   "metadata": {},
   "source": [
    "En el caso de Random Forest, el desempeño en prueba y entrenamiento es consistente. Tanto el accuracy como el recall alcanzan valores de 0.96, lo que indica que el modelo no está sobreajustado. Asimismo, en el dataset sin normalizar ni balancear, aunque las métricas disminuyen ligeramente, el modelo sigue mostrando un desempeño consistente. Cabe destacar que en el modelo ajustado de Random Forest no se observan cambios significativos en el desempeño, lo que sugiere que las configuraciones predeterminadas ya eran óptimas"
   ]
  },
  {
   "cell_type": "markdown",
   "metadata": {},
   "source": [
    "# Graficas"
   ]
  },
  {
   "cell_type": "code",
   "execution_count": 20,
   "metadata": {},
   "outputs": [],
   "source": [
    "metricas_sin_normalizar = historico_metricas[historico_metricas['Dataset'] == 'data_sin_normalizar_balancear']\n",
    "metricas_normalizado = historico_metricas[historico_metricas['Dataset'] == 'data_normalizada_balanceada']"
   ]
  },
  {
   "cell_type": "code",
   "execution_count": 21,
   "metadata": {},
   "outputs": [
    {
     "data": {
      "text/html": [
       "<div>\n",
       "<style scoped>\n",
       "    .dataframe tbody tr th:only-of-type {\n",
       "        vertical-align: middle;\n",
       "    }\n",
       "\n",
       "    .dataframe tbody tr th {\n",
       "        vertical-align: top;\n",
       "    }\n",
       "\n",
       "    .dataframe thead th {\n",
       "        text-align: right;\n",
       "    }\n",
       "</style>\n",
       "<table border=\"1\" class=\"dataframe\">\n",
       "  <thead>\n",
       "    <tr style=\"text-align: right;\">\n",
       "      <th></th>\n",
       "      <th>Modelo</th>\n",
       "      <th>Dataset</th>\n",
       "      <th>C</th>\n",
       "      <th>Solver</th>\n",
       "      <th>Accuracy_train</th>\n",
       "      <th>Accuracy_test</th>\n",
       "      <th>Recall_train</th>\n",
       "      <th>Recall_test</th>\n",
       "      <th>Precision_train</th>\n",
       "      <th>Precision_test</th>\n",
       "      <th>F1_train</th>\n",
       "      <th>F1_test</th>\n",
       "      <th>coeficiente</th>\n",
       "      <th>Max_Depth</th>\n",
       "      <th>Min_Samples_Split</th>\n",
       "      <th>n_estimators</th>\n",
       "      <th>max_depth</th>\n",
       "      <th>max_features</th>\n",
       "      <th>bootstrap</th>\n",
       "    </tr>\n",
       "  </thead>\n",
       "  <tbody>\n",
       "    <tr>\n",
       "      <th>1</th>\n",
       "      <td>Regresion_Logistica</td>\n",
       "      <td>data_sin_normalizar_balancear</td>\n",
       "      <td>default</td>\n",
       "      <td>default</td>\n",
       "      <td>0.946708</td>\n",
       "      <td>0.958042</td>\n",
       "      <td>0.926829</td>\n",
       "      <td>0.901961</td>\n",
       "      <td>0.934426</td>\n",
       "      <td>0.978723</td>\n",
       "      <td>0.930612</td>\n",
       "      <td>0.938776</td>\n",
       "      <td>[[-1.3393330233001672, -0.25483980528189343, 0...</td>\n",
       "      <td>NaN</td>\n",
       "      <td>NaN</td>\n",
       "      <td>NaN</td>\n",
       "      <td>NaN</td>\n",
       "      <td>NaN</td>\n",
       "      <td>NaN</td>\n",
       "    </tr>\n",
       "    <tr>\n",
       "      <th>3</th>\n",
       "      <td>Regresion_Logistica</td>\n",
       "      <td>data_sin_normalizar_balancear</td>\n",
       "      <td>1.0</td>\n",
       "      <td>liblinear</td>\n",
       "      <td>0.949843</td>\n",
       "      <td>0.965035</td>\n",
       "      <td>0.910569</td>\n",
       "      <td>0.921569</td>\n",
       "      <td>0.957265</td>\n",
       "      <td>0.979167</td>\n",
       "      <td>0.933333</td>\n",
       "      <td>0.949495</td>\n",
       "      <td>[[-1.7958818501359277, -0.03976502672298144, 0...</td>\n",
       "      <td>NaN</td>\n",
       "      <td>NaN</td>\n",
       "      <td>NaN</td>\n",
       "      <td>NaN</td>\n",
       "      <td>NaN</td>\n",
       "      <td>NaN</td>\n",
       "    </tr>\n",
       "    <tr>\n",
       "      <th>5</th>\n",
       "      <td>Arbol_decision_default</td>\n",
       "      <td>data_sin_normalizar_balancear</td>\n",
       "      <td>NaN</td>\n",
       "      <td>NaN</td>\n",
       "      <td>1.000000</td>\n",
       "      <td>0.902098</td>\n",
       "      <td>1.000000</td>\n",
       "      <td>0.882353</td>\n",
       "      <td>1.000000</td>\n",
       "      <td>0.849057</td>\n",
       "      <td>1.000000</td>\n",
       "      <td>0.865385</td>\n",
       "      <td>NaN</td>\n",
       "      <td>default</td>\n",
       "      <td>default</td>\n",
       "      <td>NaN</td>\n",
       "      <td>NaN</td>\n",
       "      <td>NaN</td>\n",
       "      <td>NaN</td>\n",
       "    </tr>\n",
       "    <tr>\n",
       "      <th>7</th>\n",
       "      <td>Arbol_decision</td>\n",
       "      <td>data_sin_normalizar_balancear</td>\n",
       "      <td>NaN</td>\n",
       "      <td>NaN</td>\n",
       "      <td>0.981191</td>\n",
       "      <td>0.895105</td>\n",
       "      <td>1.000000</td>\n",
       "      <td>0.901961</td>\n",
       "      <td>0.953488</td>\n",
       "      <td>0.821429</td>\n",
       "      <td>0.976190</td>\n",
       "      <td>0.859813</td>\n",
       "      <td>NaN</td>\n",
       "      <td>3</td>\n",
       "      <td>2</td>\n",
       "      <td>NaN</td>\n",
       "      <td>NaN</td>\n",
       "      <td>NaN</td>\n",
       "      <td>NaN</td>\n",
       "    </tr>\n",
       "    <tr>\n",
       "      <th>9</th>\n",
       "      <td>Random_Forest_default</td>\n",
       "      <td>data_sin_normalizar_balancear</td>\n",
       "      <td>NaN</td>\n",
       "      <td>NaN</td>\n",
       "      <td>1.000000</td>\n",
       "      <td>0.958042</td>\n",
       "      <td>1.000000</td>\n",
       "      <td>0.941176</td>\n",
       "      <td>1.000000</td>\n",
       "      <td>0.941176</td>\n",
       "      <td>1.000000</td>\n",
       "      <td>0.941176</td>\n",
       "      <td>NaN</td>\n",
       "      <td>NaN</td>\n",
       "      <td>NaN</td>\n",
       "      <td>default</td>\n",
       "      <td>default</td>\n",
       "      <td>default</td>\n",
       "      <td>default</td>\n",
       "    </tr>\n",
       "    <tr>\n",
       "      <th>11</th>\n",
       "      <td>Random_Forest</td>\n",
       "      <td>data_sin_normalizar_balancear</td>\n",
       "      <td>NaN</td>\n",
       "      <td>NaN</td>\n",
       "      <td>1.000000</td>\n",
       "      <td>0.958042</td>\n",
       "      <td>1.000000</td>\n",
       "      <td>0.941176</td>\n",
       "      <td>1.000000</td>\n",
       "      <td>0.941176</td>\n",
       "      <td>1.000000</td>\n",
       "      <td>0.941176</td>\n",
       "      <td>NaN</td>\n",
       "      <td>NaN</td>\n",
       "      <td>NaN</td>\n",
       "      <td>100</td>\n",
       "      <td>None</td>\n",
       "      <td>sqrt</td>\n",
       "      <td>True</td>\n",
       "    </tr>\n",
       "  </tbody>\n",
       "</table>\n",
       "</div>"
      ],
      "text/plain": [
       "                    Modelo                        Dataset        C     Solver  \\\n",
       "1      Regresion_Logistica  data_sin_normalizar_balancear  default    default   \n",
       "3      Regresion_Logistica  data_sin_normalizar_balancear      1.0  liblinear   \n",
       "5   Arbol_decision_default  data_sin_normalizar_balancear      NaN        NaN   \n",
       "7           Arbol_decision  data_sin_normalizar_balancear      NaN        NaN   \n",
       "9    Random_Forest_default  data_sin_normalizar_balancear      NaN        NaN   \n",
       "11           Random_Forest  data_sin_normalizar_balancear      NaN        NaN   \n",
       "\n",
       "    Accuracy_train  Accuracy_test  Recall_train  Recall_test  Precision_train  \\\n",
       "1         0.946708       0.958042      0.926829     0.901961         0.934426   \n",
       "3         0.949843       0.965035      0.910569     0.921569         0.957265   \n",
       "5         1.000000       0.902098      1.000000     0.882353         1.000000   \n",
       "7         0.981191       0.895105      1.000000     0.901961         0.953488   \n",
       "9         1.000000       0.958042      1.000000     0.941176         1.000000   \n",
       "11        1.000000       0.958042      1.000000     0.941176         1.000000   \n",
       "\n",
       "    Precision_test  F1_train   F1_test  \\\n",
       "1         0.978723  0.930612  0.938776   \n",
       "3         0.979167  0.933333  0.949495   \n",
       "5         0.849057  1.000000  0.865385   \n",
       "7         0.821429  0.976190  0.859813   \n",
       "9         0.941176  1.000000  0.941176   \n",
       "11        0.941176  1.000000  0.941176   \n",
       "\n",
       "                                          coeficiente Max_Depth  \\\n",
       "1   [[-1.3393330233001672, -0.25483980528189343, 0...       NaN   \n",
       "3   [[-1.7958818501359277, -0.03976502672298144, 0...       NaN   \n",
       "5                                                 NaN   default   \n",
       "7                                                 NaN         3   \n",
       "9                                                 NaN       NaN   \n",
       "11                                                NaN       NaN   \n",
       "\n",
       "   Min_Samples_Split n_estimators max_depth max_features bootstrap  \n",
       "1                NaN          NaN       NaN          NaN       NaN  \n",
       "3                NaN          NaN       NaN          NaN       NaN  \n",
       "5            default          NaN       NaN          NaN       NaN  \n",
       "7                  2          NaN       NaN          NaN       NaN  \n",
       "9                NaN      default   default      default   default  \n",
       "11               NaN          100      None         sqrt      True  "
      ]
     },
     "execution_count": 21,
     "metadata": {},
     "output_type": "execute_result"
    }
   ],
   "source": [
    "metricas_sin_normalizar"
   ]
  },
  {
   "cell_type": "code",
   "execution_count": 22,
   "metadata": {},
   "outputs": [
    {
     "data": {
      "image/png": "[encoded data removed]",
      "text/plain": [
       "<Figure size 640x480 with 2 Axes>"
      ]
     },
     "metadata": {},
     "output_type": "display_data"
    }
   ],
   "source": [
    "# Seleccionar las métricas relevantes\n",
    "datos = metricas_normalizado[['Modelo', 'Accuracy_test', 'Recall_test', 'Precision_test', 'F1_test']].set_index('Modelo')\n",
    "\n",
    "# Crear heatmap\n",
    "sns.heatmap(datos, annot=True, cmap='coolwarm', fmt=\".2f\")\n",
    "plt.title('Métricas por Modelo - data_normalizada_balanceada')\n",
    "plt.show()"
   ]
  },
  {
   "cell_type": "code",
   "execution_count": 23,
   "metadata": {},
   "outputs": [
    {
     "data": {
      "image/png": "[encoded data removed]",
      "text/plain": [
       "<Figure size 640x480 with 2 Axes>"
      ]
     },
     "metadata": {},
     "output_type": "display_data"
    }
   ],
   "source": [
    "# Seleccionar las métricas relevantes\n",
    "datos = metricas_sin_normalizar[['Modelo', 'Accuracy_test', 'Recall_test', 'Precision_test', 'F1_test']].set_index('Modelo')\n",
    "\n",
    "# Crear heatmap\n",
    "sns.heatmap(datos, annot=True, cmap='coolwarm', fmt=\".2f\")\n",
    "plt.title('Métricas por Modelo - data_sin_normalizar_balancear')\n",
    "plt.show()"
   ]
  },
  {
   "cell_type": "code",
   "execution_count": 24,
   "metadata": {},
   "outputs": [
    {
     "data": {
      "image/png": "[encoded data removed]",
      "text/plain": [
       "<Figure size 640x480 with 1 Axes>"
      ]
     },
     "metadata": {},
     "output_type": "display_data"
    }
   ],
   "source": [
    "# Supongamos que tienes varias pruebas del mismo modelo en el DataFrame\n",
    "sns.boxplot(x='Accuracy_test', y='Modelo', data=historico_metricas)\n",
    "plt.title('Variabilidad del Accuracy entre Modelos')\n",
    "plt.xlabel('Accuracy en test')\n",
    "plt.ylabel('Modelo')\n",
    "plt.show()"
   ]
  },
  {
   "cell_type": "code",
   "execution_count": 25,
   "metadata": {},
   "outputs": [
    {
     "data": {
      "image/png": "[encoded data removed]",
      "text/plain": [
       "<Figure size 640x480 with 1 Axes>"
      ]
     },
     "metadata": {},
     "output_type": "display_data"
    }
   ],
   "source": [
    "import matplotlib.pyplot as plt\n",
    "\n",
    "# Filtrar los datos del DataFrame\n",
    "modelos = metricas_sin_normalizar['Modelo']\n",
    "accuracy = metricas_sin_normalizar['Accuracy_test']\n",
    "\n",
    "# Gráfico de barras\n",
    "plt.bar(modelos, accuracy)\n",
    "plt.title('Comparación de Accuracy entre Modelos')\n",
    "plt.ylabel('Accuracy')\n",
    "plt.xlabel('Modelos')\n",
    "plt.xticks(rotation=45)  # Rotar los nombres de los modelos si son largos\n",
    "plt.show()"
   ]
  },
  {
   "cell_type": "code",
   "execution_count": 26,
   "metadata": {},
   "outputs": [
    {
     "data": {
      "text/plain": [
       "Index(['Modelo', 'Dataset', 'C', 'Solver', 'Accuracy_train', 'Accuracy_test',\n",
       "       'Recall_train', 'Recall_test', 'Precision_train', 'Precision_test',\n",
       "       'F1_train', 'F1_test', 'coeficiente', 'Max_Depth', 'Min_Samples_Split',\n",
       "       'n_estimators', 'max_depth', 'max_features', 'bootstrap'],\n",
       "      dtype='object')"
      ]
     },
     "execution_count": 26,
     "metadata": {},
     "output_type": "execute_result"
    }
   ],
   "source": [
    "metricas_normalizado.columns"
   ]
  },
  {
   "cell_type": "code",
   "execution_count": 27,
   "metadata": {},
   "outputs": [
    {
     "data": {
      "image/png": "[encoded data removed]",
      "text/plain": [
       "<Figure size 640x480 with 1 Axes>"
      ]
     },
     "metadata": {},
     "output_type": "display_data"
    }
   ],
   "source": [
    "# Filtrar los datos del DataFrame\n",
    "modelos = metricas_normalizado['Modelo']\n",
    "accuracy = metricas_normalizado['Recall_test']\n",
    "\n",
    "# Gráfico de barras\n",
    "plt.bar(modelos, accuracy)\n",
    "plt.title('Comparación de Recall entre Modelos - Data Balanceada Normalizada')\n",
    "plt.ylabel('Recall')\n",
    "plt.xlabel('Modelos')\n",
    "plt.xticks(rotation=45)  # Rotar los nombres de los modelos si son largos\n",
    "plt.show()"
   ]
  },
  {
   "cell_type": "markdown",
   "metadata": {},
   "source": [
    "Conclusiones \n",
    "El modelo Random Forest en data normalizada y balanceada. Este modelo logra precisión y recall consistentes tanto en entrenamiento como prueba, indicando una excelente capacidad de generalización.\n",
    "El data set normalizado y balanceado tienden a proporcionar métricas más estables y equilibradas, especialmente en Regresión Logística y Árbol de Decisión.\n",
    "Los árboles de decisión predeterminados muestran un ajuste excesivo en los datos de entrenamiento en la data set normalizado balanceado. Los ajustes como max_depth  y min_samples_split  son efectivos para mejorar la generalización.\n"
   ]
  },
  {
   "cell_type": "markdown",
   "metadata": {},
   "source": [
    "# Guardar modelos probados"
   ]
  },
  {
   "cell_type": "code",
   "execution_count": 29,
   "metadata": {},
   "outputs": [],
   "source": [
    "# Guardar las métricas en un archivo CSV\n",
    "historico_metricas.to_csv('../reports/metricas_modelos.csv', index=False)"
   ]
  }
 ],
 "metadata": {
  "kernelspec": {
   "display_name": "Python 3",
   "language": "python",
   "name": "python3"
  },
  "language_info": {
   "codemirror_mode": {
    "name": "ipython",
    "version": 3
   },
   "file_extension": ".py",
   "mimetype": "text/x-python",
   "name": "python",
   "nbconvert_exporter": "python",
   "pygments_lexer": "ipython3",
   "version": "3.13.0"
  }
 },
 "nbformat": 4,
 "nbformat_minor": 2
}
